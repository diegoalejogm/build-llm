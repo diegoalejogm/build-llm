{
 "cells": [
  {
   "cell_type": "markdown",
   "id": "8000ece1",
   "metadata": {},
   "source": [
    "In this notebook we will implement the GPT-2 model\n",
    "\n",
    "Architecture:\n",
    "\n",
    "- Token & Positional Embeddings\n",
    "- Dropout\n",
    "- Transformer\n",
    "- Normalization\n",
    "- Logits"
   ]
  },
  {
   "cell_type": "code",
   "execution_count": 6,
   "id": "85427293",
   "metadata": {},
   "outputs": [],
   "source": [
    "import torch\n",
    "import torch.nn as nn"
   ]
  },
  {
   "cell_type": "code",
   "execution_count": null,
   "id": "44577105",
   "metadata": {},
   "outputs": [],
   "source": [
    "class DummyLayerNorm(nn.Module):\n",
    "    def __init__(self):\n",
    "        super().__init__()\n",
    "\n",
    "    def forward(self, x):\n",
    "        return x\n",
    "\n",
    "class DummyTransformer(nn.Module):\n",
    "    def __init__(self):\n",
    "        super().__init__()\n",
    "\n",
    "    def forward(self, x):\n",
    "        return x"
   ]
  },
  {
   "cell_type": "code",
   "execution_count": 41,
   "id": "dce4c5b2",
   "metadata": {},
   "outputs": [],
   "source": [
    "class DummyGPT(nn.Module):\n",
    "    def __init__(self, cfg):\n",
    "        super.__init__()\n",
    "        # Dropout\n",
    "        self.dropout = nn.Dropout(cfg[\"dropRate\"])\n",
    "        # Token embedding\n",
    "        self.tokenEmbed = nn.Embedding(cfg[\"vocabSize\"], cfg[\"embedDim\"])\n",
    "        # Positional embedding\n",
    "        self.posEmbed = nn.Embedding(cfg[\"contextLength\"], cfg[\"embedDim\"])\n",
    "        # Normalization\n",
    "        self.normLayer = DummyLayerNorm()\n",
    "        # Transformer Blocks\n",
    "        self.trfBlocks = nn.Sequential([\n",
    "            DummyTransformer() for _ in range(cfg[\"nLayers\"])\n",
    "        ])\n",
    "        # Linear projection.\n",
    "        self.outLayer = nn.Linear(cfg[\"embedDim\"], cfg[\"vocabSize\"], bias=False)\n",
    "\n",
    "    def forward(self, x):\n",
    "        b, seqLen = x.shape\n",
    "        tokEmbeds = self.tokenEmbed(x)\n",
    "        posEmbeds = self.posEmbed(torch.arange(seqLen, device=x.device))\n",
    "        x = tokEmbeds + posEmbeds\n",
    "        x = self.dropout(x)\n",
    "        x = self.normLayer(x)\n",
    "        for l in self.trfBlocks:\n",
    "            x = l(x)\n",
    "        return self.outLayer(x)"
   ]
  },
  {
   "cell_type": "code",
   "execution_count": 42,
   "id": "d2b31c7f",
   "metadata": {},
   "outputs": [],
   "source": [
    "cfg = {\n",
    "    \"vocabSize\": 52048,\n",
    "    \"contextLength\": 1024, \n",
    "    \"embedDim\": 768,\n",
    "    \"nLayers\" : 12,\n",
    "    \"dropRate\": 0.1,\n",
    "}"
   ]
  },
  {
   "cell_type": "code",
   "execution_count": 43,
   "id": "7b94e0c9",
   "metadata": {},
   "outputs": [
    {
     "name": "stdout",
     "output_type": "stream",
     "text": [
      "tensor([[6109, 3626, 6100,  345],\n",
      "        [6109, 1110, 6622,  257]])\n"
     ]
    }
   ],
   "source": [
    "import tiktoken\n",
    "tokenizer = tiktoken.get_encoding(\"gpt2\")\n",
    "batch = []\n",
    "txt1 = \"Every effort moves you\"\n",
    "txt2 = \"Every day holds a\"\n",
    "batch.append(torch.tensor(tokenizer.encode(txt1)))\n",
    "batch.append(torch.tensor(tokenizer.encode(txt2)))\n",
    "batch = torch.stack(batch, dim=0)\n",
    "print(batch)"
   ]
  },
  {
   "cell_type": "code",
   "execution_count": 44,
   "id": "b6e7bb66",
   "metadata": {},
   "outputs": [
    {
     "ename": "TypeError",
     "evalue": "descriptor '__init__' of 'super' object needs an argument",
     "output_type": "error",
     "traceback": [
      "\u001b[0;31m---------------------------------------------------------------------------\u001b[0m",
      "\u001b[0;31mTypeError\u001b[0m                                 Traceback (most recent call last)",
      "Cell \u001b[0;32mIn[44], line 1\u001b[0m\n\u001b[0;32m----> 1\u001b[0m \u001b[43mDummyGPT\u001b[49m\u001b[43m(\u001b[49m\u001b[43mcfg\u001b[49m\u001b[43m)\u001b[49m\n",
      "Cell \u001b[0;32mIn[41], line 3\u001b[0m, in \u001b[0;36mDummyGPT.__init__\u001b[0;34m(self, cfg)\u001b[0m\n\u001b[1;32m      2\u001b[0m \u001b[38;5;28;01mdef\u001b[39;00m\u001b[38;5;250m \u001b[39m\u001b[38;5;21m__init__\u001b[39m(\u001b[38;5;28mself\u001b[39m, cfg):\n\u001b[0;32m----> 3\u001b[0m     \u001b[38;5;28;43msuper\u001b[39;49m\u001b[38;5;241;43m.\u001b[39;49m\u001b[38;5;21;43m__init__\u001b[39;49m\u001b[43m(\u001b[49m\u001b[43m)\u001b[49m\n\u001b[1;32m      4\u001b[0m     \u001b[38;5;66;03m# Dropout\u001b[39;00m\n\u001b[1;32m      5\u001b[0m     \u001b[38;5;28mself\u001b[39m\u001b[38;5;241m.\u001b[39mdropout \u001b[38;5;241m=\u001b[39m nn\u001b[38;5;241m.\u001b[39mDropout(cfg[\u001b[38;5;124m\"\u001b[39m\u001b[38;5;124mdropRate\u001b[39m\u001b[38;5;124m\"\u001b[39m])\n",
      "\u001b[0;31mTypeError\u001b[0m: descriptor '__init__' of 'super' object needs an argument"
     ]
    }
   ],
   "source": [
    "DummyGPT(cfg)"
   ]
  },
  {
   "cell_type": "code",
   "execution_count": null,
   "id": "ce10a05c",
   "metadata": {},
   "outputs": [],
   "source": []
  }
 ],
 "metadata": {
  "kernelspec": {
   "display_name": ".venv",
   "language": "python",
   "name": "python3"
  },
  "language_info": {
   "codemirror_mode": {
    "name": "ipython",
    "version": 3
   },
   "file_extension": ".py",
   "mimetype": "text/x-python",
   "name": "python",
   "nbconvert_exporter": "python",
   "pygments_lexer": "ipython3",
   "version": "3.10.18"
  }
 },
 "nbformat": 4,
 "nbformat_minor": 5
}
