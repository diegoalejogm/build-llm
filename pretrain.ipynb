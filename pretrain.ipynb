{
 "cells": [
  {
   "cell_type": "code",
   "execution_count": 1,
   "id": "0525c683",
   "metadata": {},
   "outputs": [
    {
     "name": "stdout",
     "output_type": "stream",
     "text": [
      "year 1122\n",
      "years 1123\n",
      "yellow 1124\n",
      "yet 1125\n",
      "you 1126\n",
      "younger 1127\n",
      "your 1128\n",
      "yourself 1129\n",
      "<|endoftext|> 1130\n",
      "<|unk|> 1131\n",
      "[999, 1131, 1131, 1130, 584, 0, 0, 1077, 6]\n",
      "this <|unk|> <|unk|> <|endoftext|> is!! was--\n"
     ]
    },
    {
     "name": "stderr",
     "output_type": "stream",
     "text": [
      "\n",
      "A module that was compiled using NumPy 1.x cannot be run in\n",
      "NumPy 2.2.6 as it may crash. To support both 1.x and 2.x\n",
      "versions of NumPy, modules must be compiled with NumPy 2.0.\n",
      "Some module may need to rebuild instead e.g. with 'pybind11>=2.12'.\n",
      "\n",
      "If you are a user of the module, the easiest solution will be to\n",
      "downgrade to 'numpy<2' or try to upgrade the affected module.\n",
      "We expect that some modules will need time to support NumPy 2.\n",
      "\n",
      "Traceback (most recent call last):  File \"/Users/diego/.pyenv/versions/3.10.18/lib/python3.10/runpy.py\", line 196, in _run_module_as_main\n",
      "    return _run_code(code, main_globals, None,\n",
      "  File \"/Users/diego/.pyenv/versions/3.10.18/lib/python3.10/runpy.py\", line 86, in _run_code\n",
      "    exec(code, run_globals)\n",
      "  File \"/Users/diego/Documents/Projects/build-llm/.venv/lib/python3.10/site-packages/ipykernel_launcher.py\", line 18, in <module>\n",
      "    app.launch_new_instance()\n",
      "  File \"/Users/diego/Documents/Projects/build-llm/.venv/lib/python3.10/site-packages/traitlets/config/application.py\", line 1075, in launch_instance\n",
      "    app.start()\n",
      "  File \"/Users/diego/Documents/Projects/build-llm/.venv/lib/python3.10/site-packages/ipykernel/kernelapp.py\", line 739, in start\n",
      "    self.io_loop.start()\n",
      "  File \"/Users/diego/Documents/Projects/build-llm/.venv/lib/python3.10/site-packages/tornado/platform/asyncio.py\", line 211, in start\n",
      "    self.asyncio_loop.run_forever()\n",
      "  File \"/Users/diego/.pyenv/versions/3.10.18/lib/python3.10/asyncio/base_events.py\", line 603, in run_forever\n",
      "    self._run_once()\n",
      "  File \"/Users/diego/.pyenv/versions/3.10.18/lib/python3.10/asyncio/base_events.py\", line 1909, in _run_once\n",
      "    handle._run()\n",
      "  File \"/Users/diego/.pyenv/versions/3.10.18/lib/python3.10/asyncio/events.py\", line 80, in _run\n",
      "    self._context.run(self._callback, *self._args)\n",
      "  File \"/Users/diego/Documents/Projects/build-llm/.venv/lib/python3.10/site-packages/ipykernel/kernelbase.py\", line 545, in dispatch_queue\n",
      "    await self.process_one()\n",
      "  File \"/Users/diego/Documents/Projects/build-llm/.venv/lib/python3.10/site-packages/ipykernel/kernelbase.py\", line 534, in process_one\n",
      "    await dispatch(*args)\n",
      "  File \"/Users/diego/Documents/Projects/build-llm/.venv/lib/python3.10/site-packages/ipykernel/kernelbase.py\", line 437, in dispatch_shell\n",
      "    await result\n",
      "  File \"/Users/diego/Documents/Projects/build-llm/.venv/lib/python3.10/site-packages/ipykernel/ipkernel.py\", line 362, in execute_request\n",
      "    await super().execute_request(stream, ident, parent)\n",
      "  File \"/Users/diego/Documents/Projects/build-llm/.venv/lib/python3.10/site-packages/ipykernel/kernelbase.py\", line 778, in execute_request\n",
      "    reply_content = await reply_content\n",
      "  File \"/Users/diego/Documents/Projects/build-llm/.venv/lib/python3.10/site-packages/ipykernel/ipkernel.py\", line 449, in do_execute\n",
      "    res = shell.run_cell(\n",
      "  File \"/Users/diego/Documents/Projects/build-llm/.venv/lib/python3.10/site-packages/ipykernel/zmqshell.py\", line 549, in run_cell\n",
      "    return super().run_cell(*args, **kwargs)\n",
      "  File \"/Users/diego/Documents/Projects/build-llm/.venv/lib/python3.10/site-packages/IPython/core/interactiveshell.py\", line 3077, in run_cell\n",
      "    result = self._run_cell(\n",
      "  File \"/Users/diego/Documents/Projects/build-llm/.venv/lib/python3.10/site-packages/IPython/core/interactiveshell.py\", line 3132, in _run_cell\n",
      "    result = runner(coro)\n",
      "  File \"/Users/diego/Documents/Projects/build-llm/.venv/lib/python3.10/site-packages/IPython/core/async_helpers.py\", line 128, in _pseudo_sync_runner\n",
      "    coro.send(None)\n",
      "  File \"/Users/diego/Documents/Projects/build-llm/.venv/lib/python3.10/site-packages/IPython/core/interactiveshell.py\", line 3336, in run_cell_async\n",
      "    has_raised = await self.run_ast_nodes(code_ast.body, cell_name,\n",
      "  File \"/Users/diego/Documents/Projects/build-llm/.venv/lib/python3.10/site-packages/IPython/core/interactiveshell.py\", line 3519, in run_ast_nodes\n",
      "    if await self.run_code(code, result, async_=asy):\n",
      "  File \"/Users/diego/Documents/Projects/build-llm/.venv/lib/python3.10/site-packages/IPython/core/interactiveshell.py\", line 3579, in run_code\n",
      "    exec(code_obj, self.user_global_ns, self.user_ns)\n",
      "  File \"/var/folders/mj/n091p3r94n30mbbxvfqpsxth0000gn/T/ipykernel_94046/3125812683.py\", line 1, in <module>\n",
      "    get_ipython().run_line_magic('run', 'data-processing.ipynb')\n",
      "  File \"/Users/diego/Documents/Projects/build-llm/.venv/lib/python3.10/site-packages/IPython/core/interactiveshell.py\", line 2482, in run_line_magic\n",
      "    result = fn(*args, **kwargs)\n",
      "  File \"/Users/diego/Documents/Projects/build-llm/.venv/lib/python3.10/site-packages/IPython/core/magics/execution.py\", line 741, in run\n",
      "    self.shell.safe_execfile_ipy(filename, raise_exceptions=True)\n",
      "  File \"/Users/diego/Documents/Projects/build-llm/.venv/lib/python3.10/site-packages/IPython/core/interactiveshell.py\", line 3005, in safe_execfile_ipy\n",
      "    result = self.run_cell(cell, silent=True, shell_futures=shell_futures)\n",
      "  File \"/Users/diego/Documents/Projects/build-llm/.venv/lib/python3.10/site-packages/ipykernel/zmqshell.py\", line 549, in run_cell\n",
      "    return super().run_cell(*args, **kwargs)\n",
      "  File \"/Users/diego/Documents/Projects/build-llm/.venv/lib/python3.10/site-packages/IPython/core/interactiveshell.py\", line 3077, in run_cell\n",
      "    result = self._run_cell(\n",
      "  File \"/Users/diego/Documents/Projects/build-llm/.venv/lib/python3.10/site-packages/IPython/core/interactiveshell.py\", line 3132, in _run_cell\n",
      "    result = runner(coro)\n",
      "  File \"/Users/diego/Documents/Projects/build-llm/.venv/lib/python3.10/site-packages/IPython/core/async_helpers.py\", line 128, in _pseudo_sync_runner\n",
      "    coro.send(None)\n",
      "  File \"/Users/diego/Documents/Projects/build-llm/.venv/lib/python3.10/site-packages/IPython/core/interactiveshell.py\", line 3336, in run_cell_async\n",
      "    has_raised = await self.run_ast_nodes(code_ast.body, cell_name,\n",
      "  File \"/Users/diego/Documents/Projects/build-llm/.venv/lib/python3.10/site-packages/IPython/core/interactiveshell.py\", line 3519, in run_ast_nodes\n",
      "    if await self.run_code(code, result, async_=asy):\n",
      "  File \"/Users/diego/Documents/Projects/build-llm/.venv/lib/python3.10/site-packages/IPython/core/interactiveshell.py\", line 3579, in run_code\n",
      "    exec(code_obj, self.user_global_ns, self.user_ns)\n",
      "  File \"/var/folders/mj/n091p3r94n30mbbxvfqpsxth0000gn/T/ipykernel_94046/3737033689.py\", line 3, in <module>\n",
      "    from torch.utils.data import Dataset\n",
      "  File \"/Users/diego/Documents/Projects/build-llm/.venv/lib/python3.10/site-packages/torch/__init__.py\", line 1477, in <module>\n",
      "    from .functional import *  # noqa: F403\n",
      "  File \"/Users/diego/Documents/Projects/build-llm/.venv/lib/python3.10/site-packages/torch/functional.py\", line 9, in <module>\n",
      "    import torch.nn.functional as F\n",
      "  File \"/Users/diego/Documents/Projects/build-llm/.venv/lib/python3.10/site-packages/torch/nn/__init__.py\", line 1, in <module>\n",
      "    from .modules import *  # noqa: F403\n",
      "  File \"/Users/diego/Documents/Projects/build-llm/.venv/lib/python3.10/site-packages/torch/nn/modules/__init__.py\", line 35, in <module>\n",
      "    from .transformer import TransformerEncoder, TransformerDecoder, \\\n",
      "  File \"/Users/diego/Documents/Projects/build-llm/.venv/lib/python3.10/site-packages/torch/nn/modules/transformer.py\", line 20, in <module>\n",
      "    device: torch.device = torch.device(torch._C._get_default_device()),  # torch.device('cpu'),\n",
      "/Users/diego/Documents/Projects/build-llm/.venv/lib/python3.10/site-packages/torch/nn/modules/transformer.py:20: UserWarning: Failed to initialize NumPy: _ARRAY_API not found (Triggered internally at /Users/runner/work/pytorch/pytorch/pytorch/torch/csrc/utils/tensor_numpy.cpp:84.)\n",
      "  device: torch.device = torch.device(torch._C._get_default_device()),  # torch.device('cpu'),\n"
     ]
    },
    {
     "name": "stdout",
     "output_type": "stream",
     "text": [
      "Inputs:\n",
      " tensor([[   40,   367,  2885,  1464],\n",
      "        [ 1807,  3619,   402,   271],\n",
      "        [10899,  2138,   257,  7026],\n",
      "        [15632,   438,  2016,   257],\n",
      "        [  198, 11274,  5891,  1576],\n",
      "        [  438,   568,   340,   373],\n",
      "        [  645,  1049,  5975,   284],\n",
      "        [  502,   284,  3285,   326]])\n",
      "\n",
      "Targets:\n",
      " tensor([[  367,  2885,  1464,  1807],\n",
      "        [ 3619,   402,   271, 10899],\n",
      "        [ 2138,   257,  7026, 15632],\n",
      "        [  438,  2016,   257,   198],\n",
      "        [11274,  5891,  1576,   438],\n",
      "        [  568,   340,   373,   645],\n",
      "        [ 1049,  5975,   284,   502],\n",
      "        [  284,  3285,   326,    11]])\n",
      "torch.Size([8, 4, 256])\n",
      "torch.Size([4, 256])\n",
      "torch.Size([8, 4, 256])\n"
     ]
    }
   ],
   "source": [
    "%run data-processing.ipynb"
   ]
  },
  {
   "cell_type": "code",
   "execution_count": 2,
   "id": "4b21a195",
   "metadata": {},
   "outputs": [
    {
     "name": "stdout",
     "output_type": "stream",
     "text": [
      "tensor([[6109, 3626, 6100,  345],\n",
      "        [6109, 1110, 6622,  257]])\n",
      "next Commonsanks Lean\n",
      " nort Tight selectedcin\n",
      "Mean:\n",
      "  tensor([-0.3596, -0.2606])\n",
      "Variance :\n",
      "  tensor([0.2015, 0.2673])\n",
      "Norm. Mean:\n",
      "  tensor([    -0.0000,      0.0000], grad_fn=<MeanBackward1>)\n",
      "Norm. Variance :\n",
      "  tensor([1.0000, 1.0000], grad_fn=<VarBackward0>)\n",
      "tensor([[0.2685, 0.7413],\n",
      "        [0.2738, 0.7564],\n",
      "        [0.2668, 0.7366],\n",
      "        [0.2618, 0.7218],\n",
      "        [0.2712, 0.7495]], grad_fn=<MmBackward0>)\n",
      "tensor([[-0.4927, -0.0791],\n",
      "        [-0.4938, -0.0806],\n",
      "        [-0.4924, -0.0851],\n",
      "        [-0.4923, -0.0819],\n",
      "        [-0.4928, -0.0853]], grad_fn=<MmBackward0>)\n",
      "Self Attention V2 output: \n",
      " tensor([[-0.4927, -0.0791],\n",
      "        [-0.4938, -0.0806],\n",
      "        [-0.4924, -0.0851],\n",
      "        [-0.4923, -0.0819],\n",
      "        [-0.4928, -0.0853]], grad_fn=<MmBackward0>)\n",
      "Self Attention V1 output: \n",
      " tensor([[-0.4927, -0.0791],\n",
      "        [-0.4938, -0.0806],\n",
      "        [-0.4924, -0.0851],\n",
      "        [-0.4923, -0.0819],\n",
      "        [-0.4928, -0.0853]], grad_fn=<MmBackward0>)\n",
      "batch.shape: torch.Size([2, 5, 3])\n",
      "contextVecs.shape: torch.Size([2, 5, 2])\n",
      "batch.shape: torch.Size([2, 5, 3])\n",
      "contextVecs.shape: torch.Size([2, 5, 4])\n",
      "batch.shape: torch.Size([2, 5, 3])\n",
      "contextVecs.shape: torch.Size([2, 5, 2])\n",
      "batch.shape: torch.Size([2, 1024, 768])\n",
      "contextVecs.shape: torch.Size([2, 1024, 768])\n",
      "encoded: [15496, 11, 314, 716]\n",
      "encoded_tensor.shape: torch.Size([1, 4])\n",
      "Output: tensor([[15496,    11,   314,   716, 24111, 43446, 12663, 18650, 28505, 27960]])\n",
      "Output length: 10\n",
      "Hello, I amFrench rebirth fundra Oracle Worm Midnight\n"
     ]
    }
   ],
   "source": [
    "# Load GPT model\n",
    "%run gpt-model.ipynb"
   ]
  },
  {
   "cell_type": "markdown",
   "id": "1d9e9169",
   "metadata": {},
   "source": [
    "# Generating Text"
   ]
  },
  {
   "cell_type": "markdown",
   "id": "51abd887",
   "metadata": {},
   "source": [
    "Define a functionality that allows encoding and decoding text"
   ]
  },
  {
   "cell_type": "code",
   "execution_count": 3,
   "id": "9d8aee08",
   "metadata": {},
   "outputs": [],
   "source": [
    "import tiktoken\n",
    "import torch\n",
    "\n",
    "def textToTokenIds(text, tokenizer):\n",
    "    encoded = tokenizer.encode(text, allowed_special={'<|endoftext|>'})\n",
    "    return torch.tensor(encoded).unsqueeze(0)\n",
    "\n",
    "def tokenIdsToText(tokens, tokenizer):\n",
    "    formatted = tokens.squeeze(0).tolist()\n",
    "    return tokenizer.decode(formatted)\n"
   ]
  },
  {
   "cell_type": "code",
   "execution_count": 4,
   "id": "7a1ec210",
   "metadata": {},
   "outputs": [
    {
     "name": "stdout",
     "output_type": "stream",
     "text": [
      "Original: Hello world <|endoftext|>\n",
      "Encoded:  tensor([[15496,   995,   220, 50256]])\n",
      "Decoded:  Hello world <|endoftext|>\n"
     ]
    }
   ],
   "source": [
    "# Test functionality to encode and decode text.\n",
    "\n",
    "tokenizer = tiktoken.get_encoding(\"gpt2\")\n",
    "\n",
    "testText = \"Hello world <|endoftext|>\"\n",
    "print(\"Original:\", testText)\n",
    "\n",
    "encoded = textToTokenIds(testText, tokenizer)\n",
    "print(\"Encoded: \", encoded)\n",
    "\n",
    "decoded = tokenIdsToText(encoded, tokenizer)\n",
    "print(\"Decoded: \", decoded)\n",
    "\n",
    "\n",
    "del tokenizer, testText, encoded, decoded\n",
    "# generateText(model, textToTokenIds(testText, tokenizer), 10, cfg[\"contextSize\"] )"
   ]
  },
  {
   "cell_type": "markdown",
   "id": "4d2fbdb1",
   "metadata": {},
   "source": [
    "Test functionality to run GPT model to generate text"
   ]
  },
  {
   "cell_type": "code",
   "execution_count": 5,
   "id": "7092dbbd",
   "metadata": {},
   "outputs": [
    {
     "name": "stdout",
     "output_type": "stream",
     "text": [
      "Encoded output:\n",
      "  tensor([[15496,   995, 27018, 48553, 22819, 39021, 14552, 42861, 23742, 10491,\n",
      "         49354, 30136]])\n",
      "Encoded generated text:\n",
      "  Hello world Featurewrapper CoordHAHAHAHA visalatest screws occasionallyDispatchamsung\n"
     ]
    }
   ],
   "source": [
    "import torch\n",
    "\n",
    "tokenizer = tiktoken.get_encoding(\"gpt2\")\n",
    "maxNewTokens = 10\n",
    "testText = \"Hello world\"\n",
    "\n",
    "# Run model\n",
    "encodedOutput = generateText(model, textToTokenIds(testText, tokenizer), maxNewTokens, cfg[\"contextLength\"] )\n",
    "print(\"Encoded output:\\n \", encodedOutput)\n",
    "\n",
    "print(\"Encoded generated text:\\n \", tokenIdsToText(encodedOutput, tokenizer))\n",
    "\n",
    "del tokenizer, maxNewTokens, encodedOutput"
   ]
  },
  {
   "cell_type": "markdown",
   "id": "292ced25",
   "metadata": {},
   "source": [
    "## Calculating the text generation loss"
   ]
  },
  {
   "cell_type": "markdown",
   "id": "c445754a",
   "metadata": {},
   "source": [
    "The loss is needed to backpropagate the mistakes.\n",
    "\n",
    "We can use the cross entropy loss, which tries to minimize the difference between two distributions: the model output distribution and the input text distribution (i.e. for evaluation or training). \n",
    "\n",
    "To do this, we first transform the output logits of the model into a probability distribution, using the softmax function. Then, we compute the cross entropy loss.\n",
    "\n",
    "#### Cross Entropy\n",
    "\n",
    "The cross entropy is defined as the negative log likelihood of the probability. \n",
    "- The closer to `1` the predicted probability is, the lower the loss. \n",
    "- Likewise, the predicted ouptut closer to `0`, the higher the loss.\n",
    "\n",
    "We provide batches of inputs to the model, thus we will compute the average cross entropy loss per batch."
   ]
  },
  {
   "cell_type": "markdown",
   "id": "477d025d",
   "metadata": {},
   "source": [
    "#### Manual implementation\n",
    "First of all, we will implement Cross Entropy manually, to better understand the concept.\n",
    "\n",
    "1. Get logits by running model.\n",
    "2. Compute probabilities as `softmax(logits)`.\n",
    "3. Get `target_probabilities` corresponding to the `target_ids`.\n",
    "4. Compute Cross Entropy as `-log(target_probabilities)`"
   ]
  },
  {
   "cell_type": "code",
   "execution_count": 6,
   "id": "0935204a",
   "metadata": {},
   "outputs": [
    {
     "name": "stdout",
     "output_type": "stream",
     "text": [
      "Inputs:\n",
      "  ['every effort moves', 'I really like']\n",
      "Prediction:\n",
      "  [' ultrasDERRGy', ' feedingpect 157']\n",
      "Target batch:\n",
      "  tensor([[16833,  3626,  6100],\n",
      "        [   40,  1107,   588]])\n"
     ]
    }
   ],
   "source": [
    "tokenizer = tiktoken.get_encoding(\"gpt2\")\n",
    "maxNewTokens = 10\n",
    "inputs = [\"every effort moves\", \"I really like\"]\n",
    "targets = [\"effort moves you\", \"really like chocolate\"]\n",
    "\n",
    "print(\"Inputs:\\n \", inputs)\n",
    "\n",
    "## Generate input logit tensors\n",
    "input_list = [textToTokenIds(i, tokenizer) for i in inputs]\n",
    "input_batch = torch.cat(input_list, dim=0)\n",
    "logits = model(input_batch)\n",
    "prediction = torch.argmax(logits, dim=-1)\n",
    "prediction_txt = [tokenIdsToText(p, tokenizer) for p in prediction]\n",
    "print(\"Prediction:\\n \", prediction_txt)\n",
    "\n",
    "## Generate target tensors\n",
    "target_list = [textToTokenIds(i, tokenizer) for i in inputs]\n",
    "target_batch = torch.cat(target_list, dim=0)\n",
    "print(\"Target batch:\\n \", target_batch)"
   ]
  },
  {
   "cell_type": "code",
   "execution_count": 7,
   "id": "73c25c0e",
   "metadata": {},
   "outputs": [
    {
     "name": "stdout",
     "output_type": "stream",
     "text": [
      "Logits:\n",
      "  tensor([[[-0.9445,  1.0687, -0.5287,  ...,  0.7997, -0.3045, -0.1305],\n",
      "         [ 0.3543,  0.1455, -0.2922,  ...,  1.3701,  0.6661, -0.8585],\n",
      "         [ 0.1292, -0.7892, -0.2675,  ...,  1.8117, -0.3191, -0.2270]],\n",
      "\n",
      "        [[-0.5297, -0.1894,  0.0521,  ...,  1.1592,  0.0616, -0.8248],\n",
      "         [-0.3367, -0.2906, -0.4386,  ...,  1.4417,  1.1520, -1.0051],\n",
      "         [-0.0635, -1.0236,  0.1465,  ...,  1.5276, -0.3795,  0.2465]]],\n",
      "       grad_fn=<ViewBackward0>)\n",
      "Probas:\n",
      "  tensor([[[    0.0000,     0.0000,     0.0000,  ...,     0.0000,\n",
      "              0.0000,     0.0000],\n",
      "         [    0.0000,     0.0000,     0.0000,  ...,     0.0001,\n",
      "              0.0000,     0.0000],\n",
      "         [    0.0000,     0.0000,     0.0000,  ...,     0.0001,\n",
      "              0.0000,     0.0000]],\n",
      "\n",
      "        [[    0.0000,     0.0000,     0.0000,  ...,     0.0001,\n",
      "              0.0000,     0.0000],\n",
      "         [    0.0000,     0.0000,     0.0000,  ...,     0.0001,\n",
      "              0.0001,     0.0000],\n",
      "         [    0.0000,     0.0000,     0.0000,  ...,     0.0001,\n",
      "              0.0000,     0.0000]]], grad_fn=<SoftmaxBackward0>)\n",
      "Targer Probas:\n",
      "  tensor([[    0.0000,     0.0000,     0.0000],\n",
      "        [    0.0000,     0.0000,     0.0000]], grad_fn=<SqueezeBackward1>)\n",
      "Log Probas:\n",
      "  tensor([-10.4004, -11.9913, -10.5911, -10.7188, -10.5306, -10.5762],\n",
      "       grad_fn=<LogBackward0>)\n",
      "Avg. log. Probas:\n",
      "  tensor([-10.4004, -11.9913, -10.5911, -10.7188, -10.5306, -10.5762],\n",
      "       grad_fn=<LogBackward0>)\n",
      "Cross Entropy Loss:\n",
      "  tensor(10.8014, grad_fn=<MulBackward0>)\n"
     ]
    }
   ],
   "source": [
    "## Fetch probabilities for target tensors\n",
    "print(\"Logits:\\n \", logits)\n",
    "probas = torch.softmax(logits, dim=-1)\n",
    "print(\"Probas:\\n \", probas)\n",
    "target_probas = torch.gather(probas, -1, target_batch.unsqueeze(-1)).squeeze(-1)\n",
    "print(\"Targer Probas:\\n \", target_probas)\n",
    "\n",
    "## Compute cross entropy\n",
    "log_probas = torch.log(target_probas.flatten())\n",
    "print(\"Log Probas:\\n \", log_probas)\n",
    "avg_log_probas = torch.mean(log_probas)\n",
    "print(\"Avg. log. Probas:\\n \", log_probas)\n",
    "neg_avg_log_probas = torch.mean(avg_log_probas) * -1\n",
    "print(\"Cross Entropy Loss:\\n \", neg_avg_log_probas)"
   ]
  },
  {
   "cell_type": "markdown",
   "id": "f29efb36",
   "metadata": {},
   "source": [
    "#### Compute using Torch Cross Entropy function\n",
    "\n",
    "Now that we've implemented the cross entropy manually, we can just use the torch available functions to confirm it was correctly implemented."
   ]
  },
  {
   "cell_type": "code",
   "execution_count": 8,
   "id": "42b96bbd",
   "metadata": {},
   "outputs": [
    {
     "data": {
      "text/plain": [
       "tensor(10.8014, grad_fn=<NllLossBackward0>)"
      ]
     },
     "execution_count": 8,
     "metadata": {},
     "output_type": "execute_result"
    }
   ],
   "source": [
    "logits_flat = logits.flatten(0,1)\n",
    "targets_flat = target_batch.flatten()\n",
    "torch.nn.functional.cross_entropy(logits_flat, targets_flat)"
   ]
  },
  {
   "cell_type": "markdown",
   "id": "c99ef423",
   "metadata": {},
   "source": [
    "## Training & Validation losses"
   ]
  },
  {
   "cell_type": "markdown",
   "id": "196561d0",
   "metadata": {},
   "source": [
    "## Training Model"
   ]
  },
  {
   "cell_type": "markdown",
   "id": "e0bf425c",
   "metadata": {},
   "source": [
    "### Loading data"
   ]
  },
  {
   "cell_type": "markdown",
   "id": "0b353d13",
   "metadata": {},
   "source": [
    "##### Load text"
   ]
  },
  {
   "cell_type": "code",
   "execution_count": 9,
   "id": "48830396",
   "metadata": {},
   "outputs": [
    {
     "name": "stdout",
     "output_type": "stream",
     "text": [
      "Characters: 20479\n",
      "Tokens: 5477\n"
     ]
    }
   ],
   "source": [
    "file_path = \"the-verdict.txt\"\n",
    "with open(file_path, \"r\", encoding=\"utf-8\") as file:\n",
    "    text_data = file.read()\n",
    "total_characters = len(text_data)\n",
    "total_tokens = len(tokenizer.encode(text_data))\n",
    "print(\"Characters:\", total_characters)\n",
    "print(\"Tokens:\", total_tokens)"
   ]
  },
  {
   "cell_type": "markdown",
   "id": "da36141f",
   "metadata": {},
   "source": [
    "##### Split train and validation"
   ]
  },
  {
   "cell_type": "code",
   "execution_count": 10,
   "id": "13961777",
   "metadata": {},
   "outputs": [],
   "source": [
    "train_ratio = 0.90\n",
    "split_idx = int(train_ratio * len(text_data))\n",
    "train_data = text_data[:split_idx]\n",
    "val_data = text_data[split_idx:]"
   ]
  },
  {
   "cell_type": "markdown",
   "id": "a75b6853",
   "metadata": {},
   "source": [
    "##### Create dataloaders using splits"
   ]
  },
  {
   "cell_type": "code",
   "execution_count": 11,
   "id": "edb66ec8",
   "metadata": {},
   "outputs": [],
   "source": [
    "torch.manual_seed(123)\n",
    "train_loader = create_dataloader_v1(\n",
    "    train_data,\n",
    "    batch_size=2,\n",
    "    max_length=cfg[\"contextLength\"],\n",
    "    stride=cfg[\"contextLength\"],\n",
    "    drop_last=True,\n",
    "    shuffle=True,\n",
    "    num_workers=0\n",
    ")\n",
    "val_loader = create_dataloader_v1(\n",
    "    val_data,\n",
    "    batch_size=2,\n",
    "    max_length=cfg[\"contextLength\"],\n",
    "    stride=cfg[\"contextLength\"],\n",
    "    drop_last=False,\n",
    "    shuffle=False,\n",
    "    num_workers=0\n",
    ")"
   ]
  },
  {
   "cell_type": "markdown",
   "id": "3f34aa66",
   "metadata": {},
   "source": [
    "##### Display loader contents"
   ]
  },
  {
   "cell_type": "code",
   "execution_count": 12,
   "id": "d56b4219",
   "metadata": {},
   "outputs": [
    {
     "name": "stdout",
     "output_type": "stream",
     "text": [
      "Train loader:\n",
      "torch.Size([2, 256]) torch.Size([2, 256])\n",
      "torch.Size([2, 256]) torch.Size([2, 256])\n",
      "torch.Size([2, 256]) torch.Size([2, 256])\n",
      "torch.Size([2, 256]) torch.Size([2, 256])\n",
      "torch.Size([2, 256]) torch.Size([2, 256])\n",
      "torch.Size([2, 256]) torch.Size([2, 256])\n",
      "torch.Size([2, 256]) torch.Size([2, 256])\n",
      "torch.Size([2, 256]) torch.Size([2, 256])\n",
      "torch.Size([2, 256]) torch.Size([2, 256])\n",
      "\n",
      "Validation loader:\n",
      "torch.Size([2, 256]) torch.Size([2, 256])\n"
     ]
    }
   ],
   "source": [
    "print(\"Train loader:\")\n",
    "for x, y in train_loader:\n",
    "    print(x.shape, y.shape)\n",
    "print(\"\\nValidation loader:\")\n",
    "for x, y in val_loader:\n",
    "    print(x.shape, y.shape)"
   ]
  },
  {
   "cell_type": "markdown",
   "id": "a7024952",
   "metadata": {},
   "source": [
    "### Loss Calculation"
   ]
  },
  {
   "cell_type": "markdown",
   "id": "fe5f65f1",
   "metadata": {},
   "source": [
    "##### Batch loss"
   ]
  },
  {
   "cell_type": "code",
   "execution_count": 13,
   "id": "c444ec20",
   "metadata": {},
   "outputs": [],
   "source": [
    "# For a given batch, compute the cross entropy.\n",
    "def calc_loss_batch(input_batch: torch.Tensor, target_batch: torch.Tensor, model: torch.nn.Module, device):\n",
    "    input_batch = input_batch.to(device)\n",
    "    target_batch = target_batch.to(device)\n",
    "    # Run model.\n",
    "    logits = model(input_batch)\n",
    "    # Compute cross-entropy loss.\n",
    "    loss = torch.nn.functional.cross_entropy(\n",
    "        logits.flatten(0, 1), target_batch.flatten()\n",
    "    )\n",
    "    return loss"
   ]
  },
  {
   "cell_type": "markdown",
   "id": "8b165c99",
   "metadata": {},
   "source": [
    "##### Data loader loss"
   ]
  },
  {
   "cell_type": "code",
   "execution_count": 14,
   "id": "f2c41693",
   "metadata": {},
   "outputs": [],
   "source": [
    "# Calculate the loss for a given data_loader.\n",
    "def calc_loss_loader(data_loader, model, device, num_batches=torch.inf):\n",
    "    total_loss = 0.\n",
    "    if len(data_loader) == 0:\n",
    "        return float(\"nan\")\n",
    "\n",
    "    # Select num_batches to be at most len(data_loader)/\n",
    "    num_batches = min(num_batches, len(data_loader))\n",
    "\n",
    "    # Iterate through batches and compute sum loss.\n",
    "    for i, (input_batch, target_batch) in enumerate(data_loader):\n",
    "        loss = calc_loss_batch(\n",
    "            input_batch, target_batch, model, device\n",
    "        )\n",
    "        total_loss += loss.item()\n",
    "    # Return avg. loss.\n",
    "    return total_loss / num_batches"
   ]
  },
  {
   "cell_type": "markdown",
   "id": "0ff0c047",
   "metadata": {},
   "source": [
    "##### Compute initial model loss\n",
    "\n",
    "Run calc_loss_loader() on the train and eval sets."
   ]
  },
  {
   "cell_type": "code",
   "execution_count": 15,
   "id": "12a373f5",
   "metadata": {},
   "outputs": [
    {
     "name": "stdout",
     "output_type": "stream",
     "text": [
      "Training loss: 11.026515324910482\n",
      "Validation loss: 10.95970630645752\n"
     ]
    }
   ],
   "source": [
    "device = torch.device(\"cuda\" if torch.cuda.is_available() else \"cpu\")\n",
    "model.to(device)\n",
    "\n",
    "with torch.no_grad():\n",
    "    train_loss = calc_loss_loader(train_loader, model, device)\n",
    "    val_loss = calc_loss_loader(val_loader, model, device)\n",
    "\n",
    "print(\"Training loss:\", train_loss)\n",
    "print(\"Validation loss:\", val_loss)"
   ]
  },
  {
   "cell_type": "markdown",
   "id": "f7b46563",
   "metadata": {},
   "source": [
    "### Training and Evaluation"
   ]
  },
  {
   "cell_type": "markdown",
   "id": "7c7057f0",
   "metadata": {},
   "source": [
    "##### Model evaluation"
   ]
  },
  {
   "cell_type": "code",
   "execution_count": 16,
   "id": "d80ab840",
   "metadata": {},
   "outputs": [],
   "source": [
    "# Evaluate the model on the train and validation loaders. Runs only on the `eval_iter` number of batches.\n",
    "# Returns the train and validation losses.\n",
    "def evaluate_model(model, train_loader, val_loader, device, eval_iter):\n",
    "    model.eval()\n",
    "    with torch.no_grad():\n",
    "        train_loss = calc_loss_loader(\n",
    "            train_loader, model, device, num_batches=eval_iter\n",
    "        )\n",
    "        val_loss = calc_loss_loader(\n",
    "            val_loader, model, device, num_batches=eval_iter\n",
    "        )\n",
    "    model.train()\n",
    "    return train_loss, val_loss"
   ]
  },
  {
   "cell_type": "markdown",
   "id": "4e5011ca",
   "metadata": {},
   "source": [
    "##### Generate text"
   ]
  },
  {
   "cell_type": "code",
   "execution_count": 17,
   "id": "d539914c",
   "metadata": {},
   "outputs": [],
   "source": [
    "# Generates text.\n",
    "def generate_and_print_sample(model, tokenizer, device, start_context, temperature : int = 0.0, top_k=None, eos_id=None):\n",
    "    model.eval()\n",
    "    context_size = model.posEmbed.weight.shape[0]\n",
    "    encoded = textToTokenIds(start_context, tokenizer).to(device)\n",
    "    with torch.no_grad():\n",
    "        token_ids = generateText(\n",
    "            model=model, idx=encoded,\n",
    "            maxNewTokens=50, contextSize=context_size,\n",
    "            temperature=temperature, top_k=top_k\n",
    "        )\n",
    "    decoded_text = tokenIdsToText(token_ids, tokenizer)\n",
    "    print(decoded_text.replace(\"\\n\", \" \"))\n",
    "    model.train()"
   ]
  },
  {
   "cell_type": "markdown",
   "id": "61a8c39b",
   "metadata": {},
   "source": [
    "##### Model training"
   ]
  },
  {
   "cell_type": "code",
   "execution_count": 18,
   "id": "81f2fc46",
   "metadata": {},
   "outputs": [],
   "source": [
    "# Trains the model. \n",
    "# Returns the train, validation losses, and a list of all the tokens seen during training.\n",
    "def train_model_simple(model, train_loader, val_loader,\n",
    "                       optimizer, device, num_epochs,\n",
    "                       eval_freq, eval_iter, start_context, tokenizer):\n",
    "    train_losses, val_losses, track_tokens_seen = [], [], []\n",
    "    tokens_seen, global_step = 0, -1\n",
    "\n",
    "    def print_evals():\n",
    "        train_loss, val_loss = evaluate_model(\n",
    "            model, train_loader, val_loader, device, eval_iter\n",
    "        )\n",
    "        train_losses.append(train_loss)\n",
    "        val_losses.append(val_loss)\n",
    "        track_tokens_seen.append(tokens_seen)\n",
    "        print(f\"Ep {epoch+1} (Step {global_step:06d}): \"\n",
    "            f\"Train loss {train_loss:.3f}, \"\n",
    "            f\"Val loss {val_loss:.3f}\"\n",
    "        )\n",
    "\n",
    "    for epoch in range(num_epochs):\n",
    "        model.train()\n",
    "        for input_batch, target_batch in train_loader:\n",
    "            optimizer.zero_grad()\n",
    "            loss = calc_loss_batch(\n",
    "                    input_batch, target_batch, model, device\n",
    "            )\n",
    "            loss.backward()\n",
    "            optimizer.step()\n",
    "            tokens_seen += input_batch.numel()\n",
    "            global_step += 1\n",
    "\n",
    "            # Print evals.\n",
    "            if global_step % eval_freq == 0:\n",
    "                print_evals()\n",
    "\n",
    "        generate_and_print_sample(\n",
    "            model, tokenizer, device, start_context\n",
    "        )\n",
    "    return train_losses, val_losses, track_tokens_seen"
   ]
  },
  {
   "cell_type": "markdown",
   "id": "18aa3a77",
   "metadata": {},
   "source": [
    "##### Load Training Parameters"
   ]
  },
  {
   "cell_type": "code",
   "execution_count": null,
   "id": "ab273422",
   "metadata": {},
   "outputs": [
    {
     "data": {
      "text/plain": [
       "GPTModel(\n",
       "  (tokEmbed): Embedding(50257, 256)\n",
       "  (posEmbed): Embedding(256, 256)\n",
       "  (trfBlocks): Sequential(\n",
       "    (0): TransformerBlock(\n",
       "      (layerNorm1): LayerNorm()\n",
       "      (layerNorm2): LayerNorm()\n",
       "      (dropout): Dropout(p=0.1, inplace=False)\n",
       "      (feedfwd): FeedForwardModule(\n",
       "        (layers): Sequential(\n",
       "          (0): Linear(in_features=256, out_features=1024, bias=True)\n",
       "          (1): GELU()\n",
       "          (2): Linear(in_features=1024, out_features=256, bias=True)\n",
       "        )\n",
       "      )\n",
       "      (attention): MultiHeadAttention(\n",
       "        (wKeys): Linear(in_features=256, out_features=256, bias=False)\n",
       "        (wQueries): Linear(in_features=256, out_features=256, bias=False)\n",
       "        (wValues): Linear(in_features=256, out_features=256, bias=False)\n",
       "        (dropout): Dropout(p=0.1, inplace=False)\n",
       "        (linearProj): Linear(in_features=256, out_features=256, bias=True)\n",
       "      )\n",
       "    )\n",
       "    (1): TransformerBlock(\n",
       "      (layerNorm1): LayerNorm()\n",
       "      (layerNorm2): LayerNorm()\n",
       "      (dropout): Dropout(p=0.1, inplace=False)\n",
       "      (feedfwd): FeedForwardModule(\n",
       "        (layers): Sequential(\n",
       "          (0): Linear(in_features=256, out_features=1024, bias=True)\n",
       "          (1): GELU()\n",
       "          (2): Linear(in_features=1024, out_features=256, bias=True)\n",
       "        )\n",
       "      )\n",
       "      (attention): MultiHeadAttention(\n",
       "        (wKeys): Linear(in_features=256, out_features=256, bias=False)\n",
       "        (wQueries): Linear(in_features=256, out_features=256, bias=False)\n",
       "        (wValues): Linear(in_features=256, out_features=256, bias=False)\n",
       "        (dropout): Dropout(p=0.1, inplace=False)\n",
       "        (linearProj): Linear(in_features=256, out_features=256, bias=True)\n",
       "      )\n",
       "    )\n",
       "    (2): TransformerBlock(\n",
       "      (layerNorm1): LayerNorm()\n",
       "      (layerNorm2): LayerNorm()\n",
       "      (dropout): Dropout(p=0.1, inplace=False)\n",
       "      (feedfwd): FeedForwardModule(\n",
       "        (layers): Sequential(\n",
       "          (0): Linear(in_features=256, out_features=1024, bias=True)\n",
       "          (1): GELU()\n",
       "          (2): Linear(in_features=1024, out_features=256, bias=True)\n",
       "        )\n",
       "      )\n",
       "      (attention): MultiHeadAttention(\n",
       "        (wKeys): Linear(in_features=256, out_features=256, bias=False)\n",
       "        (wQueries): Linear(in_features=256, out_features=256, bias=False)\n",
       "        (wValues): Linear(in_features=256, out_features=256, bias=False)\n",
       "        (dropout): Dropout(p=0.1, inplace=False)\n",
       "        (linearProj): Linear(in_features=256, out_features=256, bias=True)\n",
       "      )\n",
       "    )\n",
       "    (3): TransformerBlock(\n",
       "      (layerNorm1): LayerNorm()\n",
       "      (layerNorm2): LayerNorm()\n",
       "      (dropout): Dropout(p=0.1, inplace=False)\n",
       "      (feedfwd): FeedForwardModule(\n",
       "        (layers): Sequential(\n",
       "          (0): Linear(in_features=256, out_features=1024, bias=True)\n",
       "          (1): GELU()\n",
       "          (2): Linear(in_features=1024, out_features=256, bias=True)\n",
       "        )\n",
       "      )\n",
       "      (attention): MultiHeadAttention(\n",
       "        (wKeys): Linear(in_features=256, out_features=256, bias=False)\n",
       "        (wQueries): Linear(in_features=256, out_features=256, bias=False)\n",
       "        (wValues): Linear(in_features=256, out_features=256, bias=False)\n",
       "        (dropout): Dropout(p=0.1, inplace=False)\n",
       "        (linearProj): Linear(in_features=256, out_features=256, bias=True)\n",
       "      )\n",
       "    )\n",
       "  )\n",
       "  (dropout): Dropout(p=0.1, inplace=False)\n",
       "  (finalNorm): LayerNorm()\n",
       "  (outLayer): Linear(in_features=256, out_features=50257, bias=True)\n",
       ")"
      ]
     },
     "execution_count": 19,
     "metadata": {},
     "output_type": "execute_result"
    }
   ],
   "source": [
    "torch.manual_seed(123)\n",
    "\n",
    "cfg = {\n",
    "    \"vocabSize\": 50257, # Number of tokens in vocabulary.\n",
    "    \"contextLength\": 256, # Max. number of tokens the LLM sees per run.\n",
    "    \"embDim\": 256, # Size of the internal. embeddings used in the LLM attention mechanism.\n",
    "    \"nLayers\" : 4, # Number of transformer layers.\n",
    "    \"dropRate\": 0.1, # Feature dropout rate.\n",
    "    \"nHeads\": 4 # Num. Attention heads per multi-head attention block    \n",
    "}\n",
    "# cfg = {\n",
    "#     \"vocabSize\": 50257, # Number of tokens in vocabulary.\n",
    "#     \"contextLength\": 256, # Max. number of tokens the LLM sees per run.\n",
    "#     \"embDim\": 768, # Size of the internal. embeddings used in the LLM attention mechanism.\n",
    "#     \"nLayers\" : 6, # Number of transformer layers.\n",
    "#     \"dropRate\": 0.1, # Feature dropout rate.\n",
    "#     \"nHeads\": 12 # Num. Attention heads per multi-head attention block    \n",
    "# }\n",
    "\n",
    "model = GPTModel(cfg)\n",
    "model.to(device)"
   ]
  },
  {
   "cell_type": "markdown",
   "id": "076b3c7d",
   "metadata": {},
   "source": [
    "##### Run training"
   ]
  },
  {
   "cell_type": "code",
   "execution_count": 27,
   "id": "9675e871",
   "metadata": {},
   "outputs": [
    {
     "name": "stdout",
     "output_type": "stream",
     "text": [
      "Ep 1 (Step 000000): Train loss 14.291, Val loss 8.248\n",
      "Ep 1 (Step 000005): Train loss 13.283, Val loss 7.733\n",
      "Every effort moves you                                                  \n",
      "Ep 2 (Step 000010): Train loss 12.395, Val loss 7.313\n",
      "Ep 2 (Step 000015): Train loss 11.685, Val loss 7.007\n",
      "Every effort moves you,                                                 \n",
      "Ep 3 (Step 000020): Train loss 11.161, Val loss 6.815\n",
      "Ep 3 (Step 000025): Train loss 10.754, Val loss 6.706\n",
      "Every effort moves you,                                                 \n",
      "Ep 4 (Step 000030): Train loss 10.391, Val loss 6.633\n",
      "Ep 4 (Step 000035): Train loss 10.072, Val loss 6.584\n",
      "Every effort moves you,                                               \",\n",
      "Ep 5 (Step 000040): Train loss 9.781, Val loss 6.545\n",
      "Every effort moves you,         \", and the                   \", and, and, and, the, and, and, and, and\n",
      "Ep 6 (Step 000045): Train loss 9.506, Val loss 6.496\n",
      "Ep 6 (Step 000050): Train loss 9.248, Val loss 6.464\n",
      "Every effort moves you,     \" a, and, and, the          \", and.     \", and, and, and, I had     \"--\n",
      "Ep 7 (Step 000055): Train loss 9.031, Val loss 6.463\n",
      "Ep 7 (Step 000060): Train loss 8.772, Val loss 6.441\n",
      "Every effort moves you,   \" of the   \"--. \"--.   \"--. \"----.    \"--, I had to. \".    \"----as\n",
      "Ep 8 (Step 000065): Train loss 8.502, Val loss 6.418\n",
      "Ep 8 (Step 000070): Train loss 8.236, Val loss 6.391\n",
      "Every effort moves you, I  \"I.   \"I, and he was.  \"--I \". I had been--and. \"I, and he was.      \"------as\n",
      "Ep 9 (Step 000075): Train loss 7.937, Val loss 6.361\n",
      "Ep 9 (Step 000080): Train loss 7.710, Val loss 6.372\n",
      "Every effort moves you, I  \" of the   \"Oh, the \"--I of the  \"--. I had been--and, and I was his   \"I of the \"I, and, and he\n",
      "Ep 10 (Step 000085): Train loss 7.480, Val loss 6.345\n",
      "Every effort moves you, I  \"Oh, and he \"Oh, the \"--and to the  \"--. I \"--and, I had been the    \" a, and he was, I had been to\n",
      "Ep 11 (Step 000090): Train loss 7.171, Val loss 6.328\n",
      "Ep 11 (Step 000095): Train loss 6.906, Val loss 6.324\n",
      "Every effort moves you, I  \"Oh, and he was a little I was his own.  \"--I was a, and he had--and, and he was his painting, and he was \"I of the, and he was his\n",
      "Ep 12 (Step 000100): Train loss 6.685, Val loss 6.312\n",
      "Ep 12 (Step 000105): Train loss 6.426, Val loss 6.346\n",
      "Every effort moves you know   \"Oh, with a in a little, the \"--and to me--I  \"--and. I was, I had been the_--and.      \"--the. \n",
      "Ep 13 (Step 000110): Train loss 6.127, Val loss 6.339\n",
      "Ep 13 (Step 000115): Train loss 5.910, Val loss 6.346\n",
      "Every effort moves you   \",, you know it \"Oh, to the of the he had been. \"Oh, I \"--and, I had been the_ he  the of the, and  \"Oh, and\n",
      "Ep 14 (Step 000120): Train loss 5.615, Val loss 6.337\n",
      "Ep 14 (Step 000125): Train loss 5.389, Val loss 6.318\n",
      "Every effort moves you  \", and, with a the \"Oh, to the \"I of it--and he was his it.  \"I the_ to the \"--the \"Oh, and, I had I \n",
      "Ep 15 (Step 000130): Train loss 5.221, Val loss 6.364\n",
      "Every effort moves you know I had \"Oh, and I \"Oh, the I of the \"Oh, with a little. \"--and that the_, I \"Oh, and. \"I He showed it to\n",
      "Ep 16 (Step 000135): Train loss 4.977, Val loss 6.354\n",
      "Ep 16 (Step 000140): Train loss 4.698, Val loss 6.401\n",
      "Every effort moves you know I had the room.  \"Oh, you to the--and in the \" of the donkey, I \"--and, you know. \"_--the's  \"Oh, he had it didn't \n",
      "Ep 17 (Step 000145): Train loss 4.435, Val loss 6.446\n",
      "Ep 17 (Step 000150): Train loss 4.236, Val loss 6.376\n",
      "Every effort moves you know I had the and.  \"Oh, you to my dear, he had been--and he had been the \"--and, you know it happened the light \"Oh, I had been a  \"I \n",
      "Ep 18 (Step 000155): Train loss 3.972, Val loss 6.419\n",
      "Ep 18 (Step 000160): Train loss 3.798, Val loss 6.435\n",
      "Every effort moves you know I had the room.  \"Oh, you to my dear, he had been--I felt to me to have been--and, you know; and I had \" of \"Oh, and in the Riviera to\n",
      "Ep 19 (Step 000165): Train loss 3.547, Val loss 6.478\n",
      "Ep 19 (Step 000170): Train loss 3.342, Val loss 6.488\n",
      "Every effort moves you know I had the room.  \"Oh, you know; and I said.  I was a little I had been--and, you know; and I had \"Oh of the \"I was a little I \n",
      "Ep 20 (Step 000175): Train loss 3.155, Val loss 6.505\n",
      "Every effort moves you know I had the room.  \"Oh, you know. \"Oh, a I said lightly; then, in the He _the_ fashionable painter--and to have of the house.\" \"By Jove--\n",
      "Ep 21 (Step 000180): Train loss 2.957, Val loss 6.515\n",
      "Ep 21 (Step 000185): Train loss 2.738, Val loss 6.541\n",
      "Every effort moves you know like.\" the-.  \"Oh, you know; and I said.  I was a sketch of a donkey--and, you know; and I seemed to see a smile, and Mrs. Gisburn--as\n",
      "Ep 22 (Step 000190): Train loss 2.562, Val loss 6.553\n",
      "Ep 22 (Step 000195): Train loss 2.454, Val loss 6.569\n",
      "Every effort moves you say to \"I her eyebrows with a \"Oh, I felt I had been \"Oh, he had been the \"--and yet not to have been the light through curtains of the house.\" \"By. Gis\n",
      "Ep 23 (Step 000200): Train loss 2.244, Val loss 6.596\n",
      "Ep 23 (Step 000205): Train loss 2.044, Val loss 6.625\n",
      "Every effort moves you know like.\" the room.  \"Oh, you it--I found the \"Oh, he had a  \"--and yet not to my dear I seemed to see a \"My dear, with a \"I\n",
      "Ep 24 (Step 000210): Train loss 1.919, Val loss 6.656\n",
      "Ep 24 (Step 000215): Train loss 1.731, Val loss 6.644\n",
      "Every effort moves you know like.\" the room.  \"Oh, by to wander up and down the  It was a sketch of a donkey--and, I looked up, I seemed to see a smile. \"I turned back of the air\n",
      "Ep 25 (Step 000220): Train loss 1.651, Val loss 6.707\n",
      "Every effort moves you know like.\" the room.  \"Oh, by Jove!\" I said.  It was a sketch of a donkey--and, you know, standing in the He was a wall.  \"By Jove--\n"
     ]
    }
   ],
   "source": [
    "optimizer = torch.optim.AdamW(\n",
    "    model.parameters(),\n",
    "    lr=0.0004, weight_decay=0.1\n",
    ")\n",
    "num_epochs = 25\n",
    "train_losses, val_losses, tokens_seen = train_model_simple(\n",
    "    model, train_loader, val_loader, optimizer, device,\n",
    "    num_epochs=num_epochs, eval_freq=5, eval_iter=5,\n",
    "    start_context=\"Every effort moves you\", tokenizer=tokenizer\n",
    ")"
   ]
  },
  {
   "cell_type": "markdown",
   "id": "69a2f0a3",
   "metadata": {},
   "source": [
    "##### Display Losses"
   ]
  },
  {
   "cell_type": "code",
   "execution_count": 48,
   "id": "5b56112a",
   "metadata": {},
   "outputs": [
    {
     "data": {
      "image/png": "[encoded data removed]",
      "text/plain": [
       "<Figure size 500x300 with 2 Axes>"
      ]
     },
     "metadata": {},
     "output_type": "display_data"
    }
   ],
   "source": [
    "import numpy as np\n",
    "import matplotlib.pyplot as plt\n",
    "from matplotlib.ticker import MaxNLocator\n",
    "\n",
    "def _to_list(x):\n",
    "    if torch.is_tensor(x):\n",
    "        # avoids .numpy() so no NumPy dependency\n",
    "        return x.detach().cpu().tolist()\n",
    "    # handle lists/tuples already\n",
    "    return x\n",
    "\n",
    "\n",
    "def plot_losses(epochs_seen, tokens_seen, train_losses, val_losses):\n",
    "    fig, ax1 = plt.subplots(figsize=(5, 3))\n",
    "    ax1.plot(epochs_seen, train_losses, label=\"Training loss\")\n",
    "    ax1.plot(\n",
    "        epochs_seen, val_losses, linestyle=\"-.\", label=\"Validation loss\"\n",
    "    )\n",
    "    ax1.set_xlabel(\"Epochs\")\n",
    "    ax1.set_ylabel(\"Loss\")\n",
    "    ax1.legend(loc=\"upper right\")\n",
    "    ax1.xaxis.set_major_locator(MaxNLocator(integer=True))\n",
    "    ax2 = ax1.twiny()\n",
    "    ax2.plot(tokens_seen, train_losses, alpha=0)\n",
    "    ax2.set_xlabel(\"Tokens seen\")\n",
    "    fig.tight_layout()\n",
    "    plt.show()\n",
    "\n",
    "epochs_tensor = torch.linspace(0, num_epochs, len(train_losses))\n",
    "plot_losses(_to_list(epochs_tensor), _to_list(tokens_seen), _to_list(train_losses), _to_list(val_losses))"
   ]
  },
  {
   "cell_type": "markdown",
   "id": "0e66834e",
   "metadata": {},
   "source": [
    "##### Generate new output"
   ]
  },
  {
   "cell_type": "code",
   "execution_count": 68,
   "id": "313413eb",
   "metadata": {},
   "outputs": [
    {
     "name": "stdout",
     "output_type": "stream",
     "text": [
      "The it really was a tempting problem. To accuse his wife would have been too easy--his \"Oh  It was a sketch of a donkey--and yet not to see it happened? I can tell you in the donkey--and it\n"
     ]
    }
   ],
   "source": [
    "generate_and_print_sample(model, tokenizer, device, \"The\", top_k=25)"
   ]
  },
  {
   "cell_type": "markdown",
   "id": "a1e9ec8e",
   "metadata": {},
   "source": [
    "### Save Model State"
   ]
  },
  {
   "cell_type": "markdown",
   "id": "10a3bbd5",
   "metadata": {},
   "source": [
    "Store the model state (weights) and optimizer state"
   ]
  },
  {
   "cell_type": "code",
   "execution_count": 55,
   "id": "96e3b0ba",
   "metadata": {},
   "outputs": [],
   "source": [
    "torch.save({\n",
    "    \"model_state_dict\": model.state_dict(),\n",
    "    \"optimizer_state_dict\": optimizer.state_dict(),\n",
    "    },\n",
    "    \"model_and_optimizer.pth\"\n",
    ")"
   ]
  },
  {
   "cell_type": "code",
   "execution_count": null,
   "id": "336c4f36",
   "metadata": {},
   "outputs": [],
   "source": [
    "checkpoint = torch.load(\"model_and_optimizer.pth\", map_location=device)\n",
    "model = GPTModel(cfg)\n",
    "model.load_state_dict(checkpoint[\"model_state_dict\"])\n",
    "optimizer = torch.optim.AdamW(model.parameters(), lr=5e-4, weight_decay=0.1)\n",
    "optimizer.load_state_dict(checkpoint[\"optimizer_state_dict\"])\n",
    "model.train()"
   ]
  }
 ],
 "metadata": {
  "kernelspec": {
   "display_name": ".venv",
   "language": "python",
   "name": "python3"
  },
  "language_info": {
   "codemirror_mode": {
    "name": "ipython",
    "version": 3
   },
   "file_extension": ".py",
   "mimetype": "text/x-python",
   "name": "python",
   "nbconvert_exporter": "python",
   "pygments_lexer": "ipython3",
   "version": "3.10.18"
  }
 },
 "nbformat": 4,
 "nbformat_minor": 5
}
