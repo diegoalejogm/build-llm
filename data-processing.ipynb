{
 "cells": [
  {
   "cell_type": "code",
   "execution_count": 22,
   "id": "a59cb03d",
   "metadata": {},
   "outputs": [],
   "source": [
    "# Load text file.\n",
    "with open(\"the-verdict.txt\", \"r\") as file:\n",
    "    raw_content = file.read()"
   ]
  },
  {
   "cell_type": "code",
   "execution_count": 23,
   "id": "4ceb2d66",
   "metadata": {},
   "outputs": [],
   "source": [
    "import re\n",
    "\n",
    "# Preprocess text by splitting on whitespace and punctuation, keeping them as tokens.\n",
    "# This function will return a list of tokens, where each token is a word or punctuation mark.\n",
    "def preprocess_text(text):\n",
    "    # Split on whitespace and punctuation, keep them as tokens\n",
    "    output = re.split(r'([,.:;?_!\"()\\']|--|\\s|\\n])', text )\n",
    "    output = [substring.strip() for substring in output if substring.strip()]\n",
    "    return output"
   ]
  },
  {
   "cell_type": "code",
   "execution_count": 24,
   "id": "ae5d55ba",
   "metadata": {},
   "outputs": [
    {
     "data": {
      "text/plain": [
       "['I',\n",
       " 'HAD',\n",
       " 'always',\n",
       " 'thought',\n",
       " 'Jack',\n",
       " 'Gisburn',\n",
       " 'rather',\n",
       " 'a',\n",
       " 'cheap',\n",
       " 'genius']"
      ]
     },
     "execution_count": 24,
     "metadata": {},
     "output_type": "execute_result"
    }
   ],
   "source": [
    "# Preprocess the raw content.\n",
    "preprocessed = preprocess_text(raw_content)\n",
    "preprocessed[:10]  # Display first 10 tokens for verification"
   ]
  },
  {
   "cell_type": "code",
   "execution_count": 25,
   "id": "af0d48ed",
   "metadata": {},
   "outputs": [],
   "source": [
    "# Returns a map of unique words to their indices.\n",
    "def create_vocab(preprocessed):\n",
    "    all_tokens = sorted(list(set(preprocessed)))\n",
    "    all_tokens.extend(['<|endoftext|>', '<|unk|>'])\n",
    "    vocab = {word: idx for idx, word in enumerate(all_tokens)}\n",
    "    return vocab"
   ]
  },
  {
   "cell_type": "code",
   "execution_count": 26,
   "id": "d7b6093c",
   "metadata": {},
   "outputs": [
    {
     "name": "stdout",
     "output_type": "stream",
     "text": [
      "year 1122\n",
      "years 1123\n",
      "yellow 1124\n",
      "yet 1125\n",
      "you 1126\n",
      "younger 1127\n",
      "your 1128\n",
      "yourself 1129\n",
      "<|endoftext|> 1130\n",
      "<|unk|> 1131\n"
     ]
    }
   ],
   "source": [
    "# Create vocabulary from the preprocessed text.\n",
    "vocab = create_vocab(preprocessed)\n",
    "for k,v in list(vocab.items())[-10:]:\n",
    "    print (k, v)"
   ]
  },
  {
   "cell_type": "code",
   "execution_count": 83,
   "id": "ac7da6f3",
   "metadata": {},
   "outputs": [],
   "source": [
    "# Define a simple tokenizer.\n",
    "# Tokenizer supports Encode and Decode methods.\n",
    "# The tokenizer splits text into words and punctuation, removing whitespaces.\n",
    "# Tokens that are not in the vocab. are encoded as \"<|unk|>\".\n",
    "class SimpleTokenizer: \n",
    "    def __init__(self, vocab):\n",
    "        self.text_to_int = vocab\n",
    "        self.int_to_text = {v: k for k, v in vocab.items()}\n",
    "\n",
    "    def encode(self, text):\n",
    "        return [\n",
    "            self.text_to_int[word] if word in self.text_to_int \n",
    "            else self.text_to_int['<|unk|>'] for word in preprocess_text(text)\n",
    "            ]\n",
    "    \n",
    "    def decode(self, tokens):\n",
    "        output = \" \".join([self.int_to_text[id] for id in tokens])\n",
    "        output = re.sub(r'\\s+([,.:;?_!\"()\\']|--)', r'\\1', output)\n",
    "        return output"
   ]
  },
  {
   "cell_type": "code",
   "execution_count": 84,
   "id": "dbbe185e",
   "metadata": {},
   "outputs": [
    {
     "name": "stdout",
     "output_type": "stream",
     "text": [
      "[999, 1131, 1131, 1130, 584, 0, 0, 1077, 6]\n",
      "this <|unk|> <|unk|> <|endoftext|> is!! was--\n"
     ]
    }
   ],
   "source": [
    "# Init. tokenizer.\n",
    "tokenizerV1 = SimpleTokenizer(vocab)\n",
    "\n",
    "# Sampe use of tokenizer functions.\n",
    "text = \"this Hello world <|endoftext|> is!! was--\"\n",
    "print(tokenizerV1.encode(text))  # Example encoding.\n",
    "print(tokenizerV1.decode(tokenizerV1.encode(text)))  # Example decoding.\n",
    "del text"
   ]
  },
  {
   "cell_type": "markdown",
   "id": "65d94a99",
   "metadata": {},
   "source": [
    "## Using Byte Pair Encoding"
   ]
  },
  {
   "cell_type": "markdown",
   "id": "b66960e2",
   "metadata": {},
   "source": [
    "- [x] Create GPT dataset (txt, tokenizer, max_lenght, stride)\n",
    "- [x] Create dataloader using dataset (txt, batch_size, max_length, stride, shuffle, drop_last, num_workers)"
   ]
  },
  {
   "cell_type": "code",
   "execution_count": 85,
   "id": "c2d19897",
   "metadata": {},
   "outputs": [],
   "source": [
    "# Create dataset.\n",
    "\n",
    "from torch.utils.data import Dataset\n",
    "import torch\n",
    "\n",
    "class DatasetGPTV1(Dataset):\n",
    "\n",
    "    def __init__(self, txt : str, tokenizer, max_length: int, stride: int):\n",
    "        self.input_ids = []\n",
    "        self.target_ids = []\n",
    "\n",
    "        all_ids  = tokenizer.encode(txt)\n",
    "\n",
    "        for i in range(0, len(all_ids)-max_length, stride):\n",
    "            # Select first max_lenght-i elements.\n",
    "            input_chunk = all_ids[i:i+max_length]\n",
    "            # Select max_lenght-i elements, slide by 1.\n",
    "            target_chunk = all_ids[i+1:i+max_length+1]\n",
    "            # Append to input/target lists.\n",
    "            self.input_ids.append(torch.tensor(input_chunk))\n",
    "            self.target_ids.append(torch.tensor(target_chunk))\n",
    "    \n",
    "    def __len__(self):\n",
    "        return len(self.input_ids)\n",
    "    \n",
    "    def __getitem__(self, idx):\n",
    "        return self.input_ids[idx], self.target_ids[idx]"
   ]
  },
  {
   "cell_type": "code",
   "execution_count": 86,
   "id": "535725c0",
   "metadata": {},
   "outputs": [
    {
     "data": {
      "text/plain": [
       "(tensor([ 53,  44, 149]), tensor([  44,  149, 1003]))"
      ]
     },
     "execution_count": 86,
     "metadata": {},
     "output_type": "execute_result"
    }
   ],
   "source": [
    "DatasetGPTV1(raw_content, SimpleTokenizer(vocab), max_length=3, stride=2)[0]"
   ]
  },
  {
   "cell_type": "code",
   "execution_count": 96,
   "id": "6b2471ea",
   "metadata": {},
   "outputs": [],
   "source": [
    "from torch.utils.data import DataLoader\n",
    "import tiktoken\n",
    "\n",
    "def create_dataloader_v1(txt, batch_size=4, max_length=256, stride=128, shuffle=True, drop_last=True, num_workers=0):\n",
    "    tokenizer = tiktoken.encoding_for_model(\"gpt2\")\n",
    "    dataset = DatasetGPTV1(txt, tokenizer, max_length, stride)\n",
    "    dataloader = DataLoader(dataset, batch_size=batch_size, shuffle=shuffle, drop_last=drop_last, num_workers=num_workers)\n",
    "    return dataloader"
   ]
  },
  {
   "cell_type": "code",
   "execution_count": 97,
   "id": "53d4f384",
   "metadata": {},
   "outputs": [
    {
     "name": "stdout",
     "output_type": "stream",
     "text": [
      "Inputs:\n",
      " tensor([[   40,   367,  2885,  1464],\n",
      "        [ 1807,  3619,   402,   271],\n",
      "        [10899,  2138,   257,  7026],\n",
      "        [15632,   438,  2016,   257],\n",
      "        [  198, 11274,  5891,  1576],\n",
      "        [  438,   568,   340,   373],\n",
      "        [  645,  1049,  5975,   284],\n",
      "        [  502,   284,  3285,   326]])\n",
      "\n",
      "Targets:\n",
      " tensor([[  367,  2885,  1464,  1807],\n",
      "        [ 3619,   402,   271, 10899],\n",
      "        [ 2138,   257,  7026, 15632],\n",
      "        [  438,  2016,   257,   198],\n",
      "        [11274,  5891,  1576,   438],\n",
      "        [  568,   340,   373,   645],\n",
      "        [ 1049,  5975,   284,   502],\n",
      "        [  284,  3285,   326,    11]])\n"
     ]
    }
   ],
   "source": [
    "dataloader = create_dataloader_v1( raw_content, batch_size=8, max_length=4, stride=4, shuffle=False )\n",
    "data_iter = iter(dataloader)\n",
    "inputs, targets = next(data_iter)\n",
    "print(\"Inputs:\\n\", inputs)\n",
    "print(\"\\nTargets:\\n\", targets)"
   ]
  },
  {
   "cell_type": "markdown",
   "id": "70249741",
   "metadata": {},
   "source": [
    "## Create Token Embedding Layers"
   ]
  },
  {
   "cell_type": "markdown",
   "id": "7f07a30f",
   "metadata": {},
   "source": [
    "- [x] Create token embeddings (torch.nn.Embedding)\n",
    "- [x] Create positional embeddings (same)"
   ]
  },
  {
   "cell_type": "code",
   "execution_count": 107,
   "id": "e61c550c",
   "metadata": {},
   "outputs": [
    {
     "name": "stdout",
     "output_type": "stream",
     "text": [
      "torch.Size([8, 4, 256])\n"
     ]
    }
   ],
   "source": [
    "# Create token embeddings.\n",
    "vocab_size = 50257 # Size of the BPE.\n",
    "output_dim = 256   # Output embedding size. \n",
    "token_embedding_layer = torch.nn.Embedding(vocab_size, output_dim)\n",
    "token_embedding = token_embedding_layer(inputs)\n",
    "print(token_embedding.shape)"
   ]
  },
  {
   "cell_type": "code",
   "execution_count": 108,
   "id": "7e8c8fbc",
   "metadata": {},
   "outputs": [
    {
     "name": "stdout",
     "output_type": "stream",
     "text": [
      "torch.Size([4, 256])\n"
     ]
    }
   ],
   "source": [
    "# Create positional embeddings (absoute position).\n",
    "context_length = max_length = 4\n",
    "pos_embedding_layer = torch.nn.Embedding(4, output_dim)\n",
    "pos_embedding = pos_embedding_layer(torch.arange(context_length))\n",
    "print(pos_embedding.shape)"
   ]
  },
  {
   "cell_type": "code",
   "execution_count": 109,
   "id": "c1b5008f",
   "metadata": {},
   "outputs": [
    {
     "name": "stdout",
     "output_type": "stream",
     "text": [
      "torch.Size([8, 4, 256])\n"
     ]
    }
   ],
   "source": [
    "# Make a single input embedding as the sum.\n",
    "input_embeddings = token_embedding + pos_embedding\n",
    "print(input_embeddings.shape)"
   ]
  }
 ],
 "metadata": {
  "kernelspec": {
   "display_name": ".venv",
   "language": "python",
   "name": "python3"
  },
  "language_info": {
   "codemirror_mode": {
    "name": "ipython",
    "version": 3
   },
   "file_extension": ".py",
   "mimetype": "text/x-python",
   "name": "python",
   "nbconvert_exporter": "python",
   "pygments_lexer": "ipython3",
   "version": "3.10.18"
  }
 },
 "nbformat": 4,
 "nbformat_minor": 5
}
