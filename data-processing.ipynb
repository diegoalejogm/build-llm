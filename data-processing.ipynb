{
 "cells": [
  {
   "cell_type": "code",
   "execution_count": 3,
   "id": "a59cb03d",
   "metadata": {},
   "outputs": [],
   "source": [
    "# Load text file.\n",
    "with open(\"the-verdict.txt\", \"r\") as file:\n",
    "    raw_content = file.read()"
   ]
  },
  {
   "cell_type": "code",
   "execution_count": 4,
   "id": "4ceb2d66",
   "metadata": {},
   "outputs": [],
   "source": [
    "import re\n",
    "\n",
    "# Preprocess text by splitting on whitespace and punctuation, keeping them as tokens.\n",
    "# This function will return a list of tokens, where each token is a word or punctuation mark.\n",
    "def preprocess_text(text):\n",
    "    # Split on whitespace and punctuation, keep them as tokens\n",
    "    output = re.split(r'([,.:;?_!\"()\\']|--|\\s|\\n])', text )\n",
    "    output = [substring.strip() for substring in output if substring.strip()]\n",
    "    return output"
   ]
  },
  {
   "cell_type": "code",
   "execution_count": 5,
   "id": "ae5d55ba",
   "metadata": {},
   "outputs": [
    {
     "data": {
      "text/plain": [
       "['I',\n",
       " 'HAD',\n",
       " 'always',\n",
       " 'thought',\n",
       " 'Jack',\n",
       " 'Gisburn',\n",
       " 'rather',\n",
       " 'a',\n",
       " 'cheap',\n",
       " 'genius']"
      ]
     },
     "execution_count": 5,
     "metadata": {},
     "output_type": "execute_result"
    }
   ],
   "source": [
    "# Preprocess the raw content.\n",
    "preprocessed = preprocess_text(raw_content)\n",
    "preprocessed[:10]  # Display first 10 tokens for verification"
   ]
  },
  {
   "cell_type": "code",
   "execution_count": 6,
   "id": "af0d48ed",
   "metadata": {},
   "outputs": [],
   "source": [
    "# Returns a map of unique words to their indices.\n",
    "def create_vocab(preprocessed):\n",
    "    all_tokens = sorted(list(set(preprocessed)))\n",
    "    all_tokens.extend(['<|endoftext|>', '<|unk|>'])\n",
    "    vocab = {word: idx for idx, word in enumerate(all_tokens)}\n",
    "    return vocab"
   ]
  },
  {
   "cell_type": "code",
   "execution_count": 41,
   "id": "d7b6093c",
   "metadata": {},
   "outputs": [
    {
     "name": "stdout",
     "output_type": "stream",
     "text": [
      "year 1122\n",
      "years 1123\n",
      "yellow 1124\n",
      "yet 1125\n",
      "you 1126\n",
      "younger 1127\n",
      "your 1128\n",
      "yourself 1129\n",
      "<|endoftext|> 1130\n",
      "<|unk|> 1131\n"
     ]
    }
   ],
   "source": [
    "# Create vocabulary from the preprocessed text.\n",
    "vocab = create_vocab(preprocessed)\n",
    "for k,v in list(vocab.items())[-10:]:\n",
    "    print (k, v)"
   ]
  },
  {
   "cell_type": "code",
   "execution_count": 33,
   "id": "ac7da6f3",
   "metadata": {},
   "outputs": [],
   "source": [
    "# Define a simple tokenizer.\n",
    "# Tokenizer supports Encode and Decode methods.\n",
    "# The tokenizer splits text into words and punctuation, removing whitespaces.\n",
    "# Tokens that are not in the vocab. are encoded as \"<|unk|>\".\n",
    "class SimpleTokenizer: \n",
    "    def __init__(self, vocab):\n",
    "        self.text_to_int = vocab\n",
    "        self.int_to_text = {v: k for k, v in vocab.items()}\n",
    "\n",
    "    def encode(self, text):\n",
    "        return [\n",
    "            self.text_to_int[word] if word in self.text_to_int \n",
    "            else self.text_to_int['<|unk|>'] for word in preprocess_text(text)\n",
    "            ]\n",
    "    \n",
    "    def decode(self, tokens):\n",
    "        output = \" \".join([self.int_to_text[id] for id in tokens])\n",
    "        output = re.sub(r'\\s+([,.:;?_!\"()\\']|--)', r'\\1', output)\n",
    "        return output"
   ]
  },
  {
   "cell_type": "code",
   "execution_count": null,
   "id": "dbbe185e",
   "metadata": {},
   "outputs": [
    {
     "name": "stdout",
     "output_type": "stream",
     "text": [
      "[999, 1131, 1131, 1130, 584, 0, 0, 1077, 6]\n",
      "this <|unk|> <|unk|> <|endoftext|> is!! was--\n"
     ]
    }
   ],
   "source": [
    "# Init. tokenizer.\n",
    "tokenizerV1 = SimpleTokenizerV1(vocab)\n",
    "\n",
    "# Sampe use of tokenizer functions.\n",
    "text = \"this Hello world <|endoftext|> is!! was--\"\n",
    "print(tokenizerV1.encode(text))  # Example encoding.\n",
    "print(tokenizerV1.decode(tokenizerV1.encode(text)))  # Example decoding.\n",
    "del text"
   ]
  }
 ],
 "metadata": {
  "kernelspec": {
   "display_name": "Python 3",
   "language": "python",
   "name": "python3"
  },
  "language_info": {
   "codemirror_mode": {
    "name": "ipython",
    "version": 3
   },
   "file_extension": ".py",
   "mimetype": "text/x-python",
   "name": "python",
   "nbconvert_exporter": "python",
   "pygments_lexer": "ipython3",
   "version": "3.9.6"
  }
 },
 "nbformat": 4,
 "nbformat_minor": 5
}
