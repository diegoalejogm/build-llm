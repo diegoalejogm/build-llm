{
 "cells": [
  {
   "cell_type": "markdown",
   "id": "fb8ef53b",
   "metadata": {},
   "source": [
    "# Instruction Tuning the Model"
   ]
  },
  {
   "cell_type": "markdown",
   "id": "b47868b1",
   "metadata": {},
   "source": [
    "##### Download Instruction Dataset"
   ]
  },
  {
   "cell_type": "code",
   "execution_count": null,
   "id": "233dcce7",
   "metadata": {},
   "outputs": [
    {
     "name": "stdout",
     "output_type": "stream",
     "text": [
      "Number of entries: 1100\n"
     ]
    }
   ],
   "source": [
    "import json\n",
    "import os\n",
    "import urllib\n",
    "\n",
    "\n",
    "def download_and_load_file(file_path, url):\n",
    "    if not os.path.exists(file_path):\n",
    "        with urllib.request.urlopen(url) as response:\n",
    "            text_data = response.read().decode(\"utf-8\")\n",
    "        with open(file_path, \"w\", encoding=\"utf-8\") as file:\n",
    "            file.write(text_data)\n",
    "        with open(file_path, \"r\") as file:\n",
    "            data = json.load(file)\n",
    "        return data\n",
    "\n",
    "\n",
    "file_path = \"instruction-data.json\"\n",
    "url = (\n",
    "    \"https://raw.githubusercontent.com/rasbt/LLMs-from-scratch\"\n",
    "    \"/main/ch07/01_main-chapter-code/instruction-data.json\"\n",
    ")\n",
    "data = download_and_load_file(file_path, url)\n",
    "print(\"Number of entries:\", len(data))"
   ]
  },
  {
   "cell_type": "markdown",
   "id": "a88b8190",
   "metadata": {},
   "source": [
    "Let's print one of the entries"
   ]
  },
  {
   "cell_type": "code",
   "execution_count": 3,
   "id": "4e237bc9",
   "metadata": {},
   "outputs": [
    {
     "name": "stdout",
     "output_type": "stream",
     "text": [
      "Example entry:\n",
      " {'instruction': 'Identify the correct spelling of the following word.', 'input': 'Ocassion', 'output': \"The correct spelling is 'Occasion.'\"}\n"
     ]
    }
   ],
   "source": [
    "print(\"Example entry:\\n\", data[50])"
   ]
  },
  {
   "cell_type": "markdown",
   "id": "2cc93b88",
   "metadata": {},
   "source": [
    "##### TODO: Exercise 7.1 Changing prompt styles\n",
    "After fine-tuning the model with the Alpaca prompt style, try the Phi-3 prompt style\n",
    "shown in figure 7.4 and observe whether it affects the response quality of the model"
   ]
  },
  {
   "cell_type": "markdown",
   "id": "4f53227a",
   "metadata": {},
   "source": [
    "##### Implementing the prompt formatting function"
   ]
  },
  {
   "cell_type": "code",
   "execution_count": null,
   "id": "d03847f2",
   "metadata": {},
   "outputs": [],
   "source": [
    "def format_input(entry):\n",
    "    instruction = (\n",
    "    f\"Below is an instruction that describes a task. \"\n",
    "    f\"Write a response that appropriately completes the request.\"\n",
    "    f\"\\n\\n### Instruction:\\n{entry['instruction']}\"\n",
    "    )\n",
    "    f\"\\n\\n### Input:\\n{entry['input']}\"\n",
    "    ...\n",
    "    ### Input:\n",
    "    ...\n",
    "    ### Response:\n",
    "    ...\n",
    "\n",
    "    \"\"\""
   ]
  },
  {
   "cell_type": "code",
   "execution_count": null,
   "id": "4f2ed346",
   "metadata": {},
   "outputs": [],
   "source": []
  }
 ],
 "metadata": {
  "kernelspec": {
   "display_name": ".venv",
   "language": "python",
   "name": "python3"
  },
  "language_info": {
   "codemirror_mode": {
    "name": "ipython",
    "version": 3
   },
   "file_extension": ".py",
   "mimetype": "text/x-python",
   "name": "python",
   "nbconvert_exporter": "python",
   "pygments_lexer": "ipython3",
   "version": "3.10.18"
  }
 },
 "nbformat": 4,
 "nbformat_minor": 5
}
