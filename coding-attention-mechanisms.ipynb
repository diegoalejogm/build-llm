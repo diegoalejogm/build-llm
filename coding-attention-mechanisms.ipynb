{
 "cells": [
  {
   "cell_type": "markdown",
   "id": "bb44300e",
   "metadata": {},
   "source": [
    "### Coding Attention Mechanisms"
   ]
  },
  {
   "cell_type": "code",
   "execution_count": 41,
   "id": "d281f14d",
   "metadata": {},
   "outputs": [],
   "source": [
    "# A compact self-attention class. It uses nn.Parameters to define the weight matrices Wk Wq Wv.\n",
    "\n",
    "import torch.nn as nn\n",
    "import torch\n",
    "\n",
    "class SelfAttention_v1(nn.Module):\n",
    "    def __init__(self, d_in, d_out):\n",
    "        super().__init__()\n",
    "        self.W_key = nn.Parameter(torch.rand(d_in, d_out))\n",
    "        self.W_query = nn.Parameter(torch.rand(d_in, d_out))\n",
    "        self.W_value = nn.Parameter(torch.rand(d_in, d_out))\n",
    "\n",
    "    def forward(self, x):\n",
    "        K = x @ self.W_key\n",
    "        Q = x @ self.W_query\n",
    "        V = x @ self.W_value\n",
    "\n",
    "        attention_scores = Q @ K.T\n",
    "        attention_weights = torch.softmax(attention_scores / K.shape[-1]**0.5, dim=-1)\n",
    "        return attention_weights @ V\n",
    "    \n",
    "    def updateWeights(self, input_w_key,input_w_query,input_w_value):\n",
    "        self.W_key = nn.Parameter(input_w_key)\n",
    "        self.W_query = nn.Parameter(input_w_query)\n",
    "        self.W_value = nn.Parameter(input_w_value)"
   ]
  },
  {
   "cell_type": "code",
   "execution_count": 42,
   "id": "4bd23bfe",
   "metadata": {},
   "outputs": [
    {
     "name": "stdout",
     "output_type": "stream",
     "text": [
      "tensor([[0.2685, 0.7413],\n",
      "        [0.2738, 0.7564],\n",
      "        [0.2668, 0.7366],\n",
      "        [0.2618, 0.7218],\n",
      "        [0.2712, 0.7495]], grad_fn=<MmBackward0>)\n"
     ]
    }
   ],
   "source": [
    "torch.manual_seed(123)\n",
    "\n",
    "# Example input values to try the self-attention layer.\n",
    "inputs = torch.tensor(\n",
    "[[0.43, 0.15, 0.89],\n",
    " [0.57, 0.85, 0.64], \n",
    " [0.22, 0.58, 0.33],\n",
    " [0.77, 0.25, 0.10],\n",
    " [0.05, 0.80, 0.55]]\n",
    ")\n",
    "\n",
    "d_in, d_out = 3, 2\n",
    "sa_v1 = SelfAttention_v1(d_in, d_out)\n",
    "print(sa_v1(inputs))\n",
    "del inputs, d_in, d_out"
   ]
  },
  {
   "cell_type": "code",
   "execution_count": 43,
   "id": "1cdb6dbe",
   "metadata": {},
   "outputs": [],
   "source": [
    "# Self-attention V2. It uses nn.Linear to define the matrices. nn.Linear is preferred as it has efficient initialization as well as optimized matrix multiplication.\n",
    "\n",
    "class SelfAttention_v2(nn.Module):\n",
    "\n",
    "    def __init__(self, d_in, d_out):\n",
    "        super().__init__()\n",
    "        self.W_keys = nn.Linear(d_in, d_out, bias=False)\n",
    "        self.W_queries = nn.Linear(d_in, d_out, bias=False)\n",
    "        self.W_values = nn.Linear(d_in, d_out, bias=False)\n",
    "\n",
    "    def forward(self, x):\n",
    "        # Compute Keys, Queries, Values.\n",
    "        K = self.W_keys(x)\n",
    "        Q = self.W_queries(x)\n",
    "        V = self.W_values(x)\n",
    "        # Compute attention weights\n",
    "        attn_scores = Q @ K.t()\n",
    "        attn_weights = torch.softmax(attn_scores / K.shape[-1]**0.5, dim=-1)\n",
    "        return  attn_weights @ V\n",
    "        # return attn_weights @ V"
   ]
  },
  {
   "cell_type": "code",
   "execution_count": 44,
   "id": "4417800d",
   "metadata": {},
   "outputs": [
    {
     "data": {
      "text/plain": [
       "tensor([[-0.4927, -0.0791],\n",
       "        [-0.4938, -0.0806],\n",
       "        [-0.4924, -0.0851],\n",
       "        [-0.4923, -0.0819],\n",
       "        [-0.4928, -0.0853]], grad_fn=<MmBackward0>)"
      ]
     },
     "execution_count": 44,
     "metadata": {},
     "output_type": "execute_result"
    }
   ],
   "source": [
    "torch.manual_seed(123)\n",
    "\n",
    "d_in = 3\n",
    "d_out = 2\n",
    "# Example input values to try the self-attention layer.\n",
    "inputs = torch.tensor(\n",
    "[[0.43, 0.15, 0.89],\n",
    " [0.57, 0.85, 0.64], \n",
    " [0.22, 0.58, 0.33],\n",
    " [0.77, 0.25, 0.10],\n",
    " [0.05, 0.80, 0.55]]\n",
    ")\n",
    "\n",
    "SelfAttention_v2(d_in, d_out)(inputs)"
   ]
  },
  {
   "cell_type": "code",
   "execution_count": 47,
   "id": "f23d8dce",
   "metadata": {},
   "outputs": [
    {
     "name": "stdout",
     "output_type": "stream",
     "text": [
      "Self Attention V2 output: \n",
      " tensor([[-0.4927, -0.0791],\n",
      "        [-0.4938, -0.0806],\n",
      "        [-0.4924, -0.0851],\n",
      "        [-0.4923, -0.0819],\n",
      "        [-0.4928, -0.0853]], grad_fn=<MmBackward0>)\n",
      "Self Attention V1 output: \n",
      " tensor([[-0.4927, -0.0791],\n",
      "        [-0.4938, -0.0806],\n",
      "        [-0.4924, -0.0851],\n",
      "        [-0.4923, -0.0819],\n",
      "        [-0.4928, -0.0853]], grad_fn=<MmBackward0>)\n"
     ]
    }
   ],
   "source": [
    "# Validate that both attention mechanisms output the same values.\n",
    "\n",
    "torch.manual_seed(123)\n",
    "\n",
    "d_in = 3\n",
    "d_out = 2\n",
    "# Example input values to try the self-attention layer.\n",
    "inputs = torch.tensor(\n",
    "[[0.43, 0.15, 0.89],\n",
    " [0.57, 0.85, 0.64], \n",
    " [0.22, 0.58, 0.33],\n",
    " [0.77, 0.25, 0.10],\n",
    " [0.05, 0.80, 0.55]]\n",
    ")\n",
    "\n",
    "sav2 = SelfAttention_v2(d_in, d_out)\n",
    "sav1 = SelfAttention_v1(d_in, d_out)\n",
    "# Update SelfAttentionV1 to be the same as for SelfAttentionV2.\n",
    "sav1.updateWeights(sav2.W_keys.weight.t(), sav2.W_queries.weight.t(), sav2.W_values.weight.t())\n",
    "\n",
    "print(\"Self Attention V2 output: \\n\", sav2(inputs))\n",
    "print(\"Self Attention V1 output: \\n\", sav1(inputs))\n"
   ]
  }
 ],
 "metadata": {
  "kernelspec": {
   "display_name": ".venv",
   "language": "python",
   "name": "python3"
  },
  "language_info": {
   "codemirror_mode": {
    "name": "ipython",
    "version": 3
   },
   "file_extension": ".py",
   "mimetype": "text/x-python",
   "name": "python",
   "nbconvert_exporter": "python",
   "pygments_lexer": "ipython3",
   "version": "3.10.18"
  }
 },
 "nbformat": 4,
 "nbformat_minor": 5
}
