{
 "cells": [
  {
   "cell_type": "markdown",
   "id": "bb44300e",
   "metadata": {},
   "source": [
    "### Coding Attention Mechanisms"
   ]
  },
  {
   "cell_type": "code",
   "execution_count": 57,
   "id": "d281f14d",
   "metadata": {},
   "outputs": [],
   "source": [
    "# A compact self-attention class. It uses nn.Parameters to define the weight matrices Wk Wq Wv.\n",
    "\n",
    "import torch.nn as nn\n",
    "import torch\n",
    "\n",
    "class SelfAttentionV1(nn.Module):\n",
    "\n",
    "    def __init__(self, dIn, dOut):\n",
    "        super().__init__()\n",
    "        self.wKey = nn.Parameter(torch.rand(dIn, dOut))\n",
    "        self.wQuery = nn.Parameter(torch.rand(dIn, dOut))\n",
    "        self.wValue = nn.Parameter(torch.rand(dIn, dOut))\n",
    "\n",
    "    def forward(self, x):\n",
    "        K = x @ self.wKey\n",
    "        Q = x @ self.wQuery\n",
    "        V = x @ self.wValue\n",
    "\n",
    "        attnScores = Q @ K.T\n",
    "        attnWeights = torch.softmax(attnScores / K.shape[-1]**0.5, dim=-1)\n",
    "        return attnWeights @ V\n",
    "    \n",
    "    def updateWeights(self, wKey, wQuery, wValue):\n",
    "        self.wKey = nn.Parameter(wKey)\n",
    "        self.wQuery = nn.Parameter(wQuery)\n",
    "        self.wValue = nn.Parameter(wValue)"
   ]
  },
  {
   "cell_type": "code",
   "execution_count": 62,
   "id": "4bd23bfe",
   "metadata": {},
   "outputs": [
    {
     "name": "stdout",
     "output_type": "stream",
     "text": [
      "tensor([[0.2685, 0.7413],\n",
      "        [0.2738, 0.7564],\n",
      "        [0.2668, 0.7366],\n",
      "        [0.2618, 0.7218],\n",
      "        [0.2712, 0.7495]], grad_fn=<MmBackward0>)\n"
     ]
    }
   ],
   "source": [
    "torch.manual_seed(123)\n",
    "\n",
    "# Example input values to try the self-attention layer.\n",
    "inputs = torch.tensor(\n",
    "[[0.43, 0.15, 0.89],\n",
    " [0.57, 0.85, 0.64], \n",
    " [0.22, 0.58, 0.33],\n",
    " [0.77, 0.25, 0.10],\n",
    " [0.05, 0.80, 0.55]]\n",
    ")\n",
    "\n",
    "dIn, dOut = 3, 2\n",
    "print(SelfAttentionV1(dIn, dOut)(inputs))\n",
    "del inputs, dIn, dOut"
   ]
  },
  {
   "cell_type": "code",
   "execution_count": 63,
   "id": "1cdb6dbe",
   "metadata": {},
   "outputs": [],
   "source": [
    "# Self-attention V2. It uses nn.Linear to define the matrices. nn.Linear is preferred as it has efficient initialization as well as optimized matrix multiplication.\n",
    "\n",
    "class SelfAttentionV2(nn.Module):\n",
    "\n",
    "    def __init__(self, dIn, dOut):\n",
    "        super().__init__()\n",
    "        self.wKeys = nn.Linear(dIn, dOut, bias=False)\n",
    "        self.wQueries = nn.Linear(dIn, dOut, bias=False)\n",
    "        self.wValues = nn.Linear(dIn, dOut, bias=False)\n",
    "\n",
    "    def forward(self, x):\n",
    "        # Compute Keys, Queries, Values.\n",
    "        K = self.wKeys(x)\n",
    "        Q = self.wQueries(x)\n",
    "        V = self.wValues(x)\n",
    "        # Compute attention weights\n",
    "        attnScores = Q @ K.t()\n",
    "        attnWeights = torch.softmax(attnScores / K.shape[-1]**0.5, dim=-1)\n",
    "        return attnWeights @ V\n",
    "        # return attnWeights @ V"
   ]
  },
  {
   "cell_type": "code",
   "execution_count": 64,
   "id": "4417800d",
   "metadata": {},
   "outputs": [
    {
     "name": "stdout",
     "output_type": "stream",
     "text": [
      "tensor([[-0.4927, -0.0791],\n",
      "        [-0.4938, -0.0806],\n",
      "        [-0.4924, -0.0851],\n",
      "        [-0.4923, -0.0819],\n",
      "        [-0.4928, -0.0853]], grad_fn=<MmBackward0>)\n"
     ]
    }
   ],
   "source": [
    "torch.manual_seed(123)\n",
    "\n",
    "dIn = 3\n",
    "dOut = 2\n",
    "# Example input values to try the self-attention layer.\n",
    "inputs = torch.tensor(\n",
    "[[0.43, 0.15, 0.89],\n",
    " [0.57, 0.85, 0.64], \n",
    " [0.22, 0.58, 0.33],\n",
    " [0.77, 0.25, 0.10],\n",
    " [0.05, 0.80, 0.55]]\n",
    ")\n",
    "\n",
    "print(SelfAttentionV2(dIn, dOut)(inputs))\n",
    "del inputs, dIn, dOut"
   ]
  },
  {
   "cell_type": "code",
   "execution_count": 65,
   "id": "f23d8dce",
   "metadata": {},
   "outputs": [
    {
     "name": "stdout",
     "output_type": "stream",
     "text": [
      "Self Attention V2 output: \n",
      " tensor([[-0.4927, -0.0791],\n",
      "        [-0.4938, -0.0806],\n",
      "        [-0.4924, -0.0851],\n",
      "        [-0.4923, -0.0819],\n",
      "        [-0.4928, -0.0853]], grad_fn=<MmBackward0>)\n",
      "Self Attention V1 output: \n",
      " tensor([[-0.4927, -0.0791],\n",
      "        [-0.4938, -0.0806],\n",
      "        [-0.4924, -0.0851],\n",
      "        [-0.4923, -0.0819],\n",
      "        [-0.4928, -0.0853]], grad_fn=<MmBackward0>)\n"
     ]
    }
   ],
   "source": [
    "# Validate that both attention mechanisms output the same values.\n",
    "\n",
    "torch.manual_seed(123)\n",
    "\n",
    "dIn = 3\n",
    "dOut = 2\n",
    "# Example input values to try the self-attention layer.\n",
    "inputs = torch.tensor(\n",
    "[[0.43, 0.15, 0.89],\n",
    " [0.57, 0.85, 0.64], \n",
    " [0.22, 0.58, 0.33],\n",
    " [0.77, 0.25, 0.10],\n",
    " [0.05, 0.80, 0.55]]\n",
    ")\n",
    "\n",
    "sav2 = SelfAttentionV2(dIn, dOut)\n",
    "sav1 = SelfAttentionV1(dIn, dOut)\n",
    "# Update SelfAttentionV1 to be the same as for SelfAttentionV2.\n",
    "sav1.updateWeights(sav2.wKeys.weight.t(), sav2.wQueries.weight.t(), sav2.wValues.weight.t())\n",
    "\n",
    "print(\"Self Attention V2 output: \\n\", sav2(inputs))\n",
    "print(\"Self Attention V1 output: \\n\", sav1(inputs))\n",
    "del inputs, dIn, dOut"
   ]
  },
  {
   "cell_type": "markdown",
   "id": "b45f2c1c",
   "metadata": {},
   "source": [
    "#### Causal Self Attention\n",
    "\n",
    "In causal self-attention / masked attention, the model is restricted to the previous and current elements in a sequence when computing attention scores.  This is in contrast to standard self-attention which considers all elements in the sequence.\n",
    "\n",
    "It allows LLMs to learn to predict the next token in a sequence.\n",
    "\n",
    "The following implementation builds on SimpleAttentionV2, with the following changes:\n",
    "- A mask is applied to the upper diagonal elements.\n",
    "- Dropout is applied to reduce model overfitting.\n",
    "\n",
    "Drpout is typically applied at two specific times: after computing the attention weights or after applying the attention weights to the value vectors. \n",
    "\n",
    "Here we apply the attention weights after computing the attention weights."
   ]
  },
  {
   "cell_type": "code",
   "execution_count": 77,
   "id": "7297c387",
   "metadata": {},
   "outputs": [],
   "source": [
    "class CausalAttention(nn.Module):\n",
    "\n",
    "    def __init__(self, dIn, dOut, contextLength, dropout):\n",
    "        super().__init__()\n",
    "        self.wKeys = nn.Linear(dIn, dOut, bias=False)\n",
    "        self.wQueries = nn.Linear(dIn, dOut, bias=False)\n",
    "        self.wValues = nn.Linear(dIn, dOut, bias=False)\n",
    "        self.dropout = nn.Dropout(p=dropout)\n",
    "        self.register_buffer(\n",
    "            'mask', \n",
    "            # Diagønal=1 ignores the diagonal from mask.\n",
    "            torch.triu(torch.ones(contextLength, contextLength), diagonal=1),\n",
    "        )\n",
    "\n",
    "    def forward(self, x):\n",
    "        b, numTokens, dIn = x.shape \n",
    "        K = self.wKeys(x) # [b, numTokens, dIn] x [dIn, dOut] = [b, numTokens, dOut]\n",
    "        Q = self.wQueries(x)\n",
    "        V = self.wValues(x)\n",
    "\n",
    "        attnScores = Q @ K.transpose(1,2) # [b, numTokens, dOut] x [b, dOut, numTokens]\n",
    "        attnScores = attnScores.masked_fill(self.mask.bool()[:numTokens][:numTokens], -torch.inf)\n",
    "        attnWeights = torch.softmax(attnScores / K.shape[-1]**0.5, dim=-1)\n",
    "        # Apply dropout after computing weights, before applying them.\n",
    "        attnWeights = self.dropout(attnWeights)\n",
    "        return attnWeights @ V\n"
   ]
  },
  {
   "cell_type": "code",
   "execution_count": 83,
   "id": "148df5ef",
   "metadata": {},
   "outputs": [
    {
     "name": "stdout",
     "output_type": "stream",
     "text": [
      "batch.shape: torch.Size([2, 5, 3])\n",
      "contextVecs.shape: torch.Size([2, 5, 2])\n"
     ]
    }
   ],
   "source": [
    "torch.manual_seed(123)\n",
    "\n",
    "dIn = 3\n",
    "dOut = 2\n",
    "# Example input values to try the self-attention layer.\n",
    "inputs = torch.tensor(\n",
    "[[0.43, 0.15, 0.89],\n",
    " [0.57, 0.85, 0.64], \n",
    " [0.22, 0.58, 0.33],\n",
    " [0.77, 0.25, 0.10],\n",
    " [0.05, 0.80, 0.55]]\n",
    ")\n",
    "batch = torch.stack((inputs, inputs))\n",
    "\n",
    "print(\"batch.shape:\", batch.shape)\n",
    "print(\"contextVecs.shape:\", CausalAttention(dIn, dOut, batch.shape[1], 0.0)(batch).shape)\n",
    "\n",
    "del dIn, dOut, inputs, batch"
   ]
  },
  {
   "cell_type": "markdown",
   "id": "5728042e",
   "metadata": {},
   "source": [
    "#### Multi-head Attention"
   ]
  },
  {
   "cell_type": "markdown",
   "id": "1c0d6d5a",
   "metadata": {},
   "source": [
    "Multi-head attention means computing attention multiple times using different matrices. This allows the model to learn different relationships between the tokens, and attend to different parts of the sequence.\n",
    "\n",
    "As a first-approach, we implement multi-head attention in the most straightforward way. \n",
    "It is not the most efficient implementation, but allows us to try this idea.\n"
   ]
  },
  {
   "cell_type": "code",
   "execution_count": 88,
   "id": "695c6fc8",
   "metadata": {},
   "outputs": [],
   "source": [
    "class MultiHeadAttentionWrapper(nn.Module):\n",
    "    def __init__(self, dIn, dOut, contextLength, droput, numHeads):\n",
    "        super().__init__()\n",
    "        self.heads = [CausalAttention(dIn, dOut, contextLength, droput) for i in range(numHeads)]\n",
    "\n",
    "    def forward(self, x):\n",
    "        return torch.cat([head(x) for head in self.heads], dim=-1)\n",
    "\n",
    "    \n"
   ]
  },
  {
   "cell_type": "code",
   "execution_count": 92,
   "id": "aa9e5f3c",
   "metadata": {},
   "outputs": [
    {
     "name": "stdout",
     "output_type": "stream",
     "text": [
      "batch.shape: torch.Size([2, 5, 3])\n",
      "contextVecs.shape: torch.Size([2, 5, 4])\n"
     ]
    }
   ],
   "source": [
    "torch.manual_seed(123)\n",
    "\n",
    "dIn = 3\n",
    "dOut = 2\n",
    "# Example input values to try the self-attention layer.\n",
    "inputs = torch.tensor(\n",
    "[[0.43, 0.15, 0.89],\n",
    " [0.57, 0.85, 0.64], \n",
    " [0.22, 0.58, 0.33],\n",
    " [0.77, 0.25, 0.10],\n",
    " [0.05, 0.80, 0.55]]\n",
    ")\n",
    "batch = torch.stack((inputs, inputs))\n",
    "\n",
    "print(\"batch.shape:\", batch.shape)\n",
    "print(\"contextVecs.shape:\", MultiHeadAttentionWrapper(dIn, dOut, batch.shape[1], 0.0, numHeads=2)(batch).shape)\n",
    "\n",
    "del dIn, dOut, inputs, batch"
   ]
  },
  {
   "cell_type": "markdown",
   "id": "e8c7d469",
   "metadata": {},
   "source": [
    "### Efficient Multi-Head Attention\n",
    "\n",
    "Let's implement multi-head attention in a more efficent manner that does not require computing an attention matrix for each one of the heads.\n",
    "\n",
    "It consists in splitting the Keys, Queries, Values matrices into several submatrices, one per head.\n",
    "This is done by splitting the \"d_out\" dimension into \"n_heads\", \"d_head\". \n",
    "\n",
    "i.e. `(batch_size, context_size, d_out)` --> `(batch_size, context_size, n_heads, d_head)`\n",
    "\n",
    "This reshaping allows us to have a K,Q,V sub-matrix for each head using a single matrix. \n",
    "\n",
    "Next step is to reshape the matrix so we can do matrix multipilcation:\n",
    "\n",
    "i.e.  `(batch_size, context_size, n_heads, d_head)` --> `(batch_size, n_heads, context_size, d_head)`\n",
    "\n",
    "We can then use this matrix as usual to compute the attention weights. \n",
    "\n",
    "Once the outputs are computed, we must reshape the matrix to keep its original shape\n",
    "\n",
    "`(batch_size, n_heads, context_size, d_head)` --> `(batch_size, context_size, d_out)`"
   ]
  },
  {
   "cell_type": "code",
   "execution_count": null,
   "id": "cd4eb12c",
   "metadata": {},
   "outputs": [],
   "source": [
    "class MultiHeadAttention(nn.Module):\n",
    "\n",
    "    def __init__(self, dIn, dOut, numHeads):\n",
    "        super().__init__()\n",
    "        self.wKeys = nn.Linear(dIn, dOut, bias=False)\n",
    "        self.wQueries = nn.Linear(dIn, dOut, bias=False)\n",
    "        self.wValues = nn.Linear(dIn, dOut, bias=False)\n",
    "        self.dHead = dOut//numHeads\n",
    "        self.numHeads = numHeads\n",
    "\n",
    "    def forward(self, x):\n",
    "        b, numTokens, dIn = x.shape\n",
    "\n",
    "        K = self.wKeys(x) # (b, numTokens, dOut)\n",
    "        Q = self.wQueries(x)\n",
    "        V = self.wValues(x)\n",
    "\n",
    "        K = K.view(b, numTokens, self.numHeads, self.dHead) # (b, numTokens, numHeads, dHead)\n",
    "        Q = Q.view(b, numTokens, self.numHeads, self.dHead)\n",
    "        V = V.view(b, numTokens, self.numHeads, self.dHead)\n",
    "\n",
    "        K = K.transpose(1, 2) # (b, numHeads, numTokens, dHead)\n",
    "        Q = Q.transpose(1, 2)\n",
    "        V = V.transpose(1, 2)\n",
    "\n",
    "        # (b, numHeads, numTokens, dHead) x (b, numHeads, dHead, numTokens)\n",
    "        attnScores = Q @ K.transpose(2,3) # = (b, numHeads, numTokens, numTokens)\n",
    "        attnWeights = torch.softmax(attnScores / K.shape[-1]**0.5, dim=-1)\n",
    "        \n",
    "        context = (attnWeights @ V).transpose(1,2)\n",
    "        return context.view(b, numTokens, dOut)"
   ]
  },
  {
   "cell_type": "code",
   "execution_count": 99,
   "id": "de9ca5d2",
   "metadata": {},
   "outputs": [
    {
     "name": "stdout",
     "output_type": "stream",
     "text": [
      "batch.shape: torch.Size([2, 5, 3])\n",
      "contextVecs.shape: torch.Size([2, 5, 2])\n"
     ]
    }
   ],
   "source": [
    "torch.manual_seed(123)\n",
    "\n",
    "dIn = 3\n",
    "dOut = 2\n",
    "# Example input values to try the self-attention layer.\n",
    "inputs = torch.tensor(\n",
    "[[0.43, 0.15, 0.89],\n",
    " [0.57, 0.85, 0.64], \n",
    " [0.22, 0.58, 0.33],\n",
    " [0.77, 0.25, 0.10],\n",
    " [0.05, 0.80, 0.55]]\n",
    ")\n",
    "batch = torch.stack((inputs, inputs))\n",
    "\n",
    "print(\"batch.shape:\", batch.shape)\n",
    "print(\"contextVecs.shape:\", MultiHeadAttention(dIn, dOut, numHeads=2)(batch).shape)\n",
    "\n",
    "del dIn, dOut, inputs, batch"
   ]
  },
  {
   "cell_type": "code",
   "execution_count": null,
   "id": "d3bd7ed0",
   "metadata": {},
   "outputs": [],
   "source": []
  }
 ],
 "metadata": {
  "kernelspec": {
   "display_name": ".venv",
   "language": "python",
   "name": "python3"
  },
  "language_info": {
   "codemirror_mode": {
    "name": "ipython",
    "version": 3
   },
   "file_extension": ".py",
   "mimetype": "text/x-python",
   "name": "python",
   "nbconvert_exporter": "python",
   "pygments_lexer": "ipython3",
   "version": "3.10.18"
  }
 },
 "nbformat": 4,
 "nbformat_minor": 5
}
